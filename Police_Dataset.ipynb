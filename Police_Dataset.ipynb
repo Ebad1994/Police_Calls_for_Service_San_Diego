{
 "cells": [
  {
   "cell_type": "code",
   "execution_count": 144,
   "id": "ac2c27de",
   "metadata": {},
   "outputs": [],
   "source": [
    "import numpy as np\n",
    "import pandas as pd\n",
    "import matplotlib.pyplot as plt"
   ]
  },
  {
   "cell_type": "code",
   "execution_count": 145,
   "id": "0a35c9f3",
   "metadata": {},
   "outputs": [],
   "source": [
    "# Listing out the datasets to use\n",
    "main_df = pd.read_csv('pd_calls_for_service_2023_datasd.csv')\n",
    "beat_codes_df = pd.read_csv('pd_beat_codes_list_datasd.csv')\n",
    "dispo_codes_df = pd.read_csv('pd_dispo_codes_datasd.csv')\n",
    "call_types_df = pd.read_csv('pd_cfs_calltypes_datasd.csv')\n"
   ]
  },
  {
   "cell_type": "code",
   "execution_count": 146,
   "id": "0b782497",
   "metadata": {},
   "outputs": [],
   "source": [
    "# Dropping columns that are not needed from call_types_df\n",
    "call_types_df = call_types_df.drop({'Unnamed: 2','Unnamed: 3','Unnamed: 4'}, axis=1)"
   ]
  },
  {
   "cell_type": "code",
   "execution_count": 147,
   "id": "122fb8a8",
   "metadata": {},
   "outputs": [],
   "source": [
    "# Merging the main, pd_df with the beat_codes so we can see descriptions of the beats\n",
    "main_df = main_df.merge(beat_codes_df,\n",
    "                           left_on=['beat'], right_on=['beat'])\n",
    "main_df.rename(columns={'beat': 'beat_code', \n",
    "                        'neighborhood': 'beat_neighborhood'}, inplace=True)"
   ]
  },
  {
   "cell_type": "code",
   "execution_count": 148,
   "id": "99b893ed",
   "metadata": {
    "scrolled": true
   },
   "outputs": [],
   "source": [
    "# Merging the pd_df with the disposition codes so we can see descriptions of the dispositions\n",
    "dispo_codes_df.rename(columns={'dispo_code': 'disposition', 'description': 'dispo_description'}, \n",
    "                      inplace=True)\n",
    "main_df = main_df.merge(dispo_codes_df,\n",
    "                           left_on=['disposition'], right_on=['disposition'])"
   ]
  },
  {
   "cell_type": "code",
   "execution_count": 149,
   "id": "da2e69c8",
   "metadata": {},
   "outputs": [],
   "source": [
    "# Merging the pd_df with the call type codes so we can see descriptions of the call types\n",
    "main_df = main_df.merge(call_types_df,\n",
    "                           left_on=['call_type'], right_on=['call_type'])\n",
    "main_df.rename(columns={'description': 'call_type_description'}, \n",
    "                      inplace=True)"
   ]
  },
  {
   "cell_type": "code",
   "execution_count": 150,
   "id": "16f7b14c",
   "metadata": {},
   "outputs": [],
   "source": [
    "priority_short_description_dictionary = {2: 'Dispatch as quickly as possible', \n",
    "                                         3: 'Dispatch as quickly as possible', \n",
    "                                         1: 'Dispatch Immediately', \n",
    "                                         4: 'Dispatch when no higher priority calls are waiting',\n",
    "                                         0: 'Dispatch Immediately',\n",
    "                                         9: 'Calls that are formatted for the Telephone Report Unit (TRU)'}\n",
    "priority_long_description_dictionary = {2: 'Priority Two calls involve complaints regarding less serious crimes in which there is no threat to life. Examples include: prowlers who have left, preserve the peace, crime reports for residents standing by at an inconvenient location, blocked driveway when the caller is waiting to leave, injured animals, loud parties with mitigating circumstances', \n",
    "                                         3: 'Priority Three calls involve minor crimes or requests for service which are not urgent. Examples include: investigating a cold crime, loud parties involving noise only.', \n",
    "                                         1: 'Priority One calls involve serious crimes in progress or a threat to life. Examples include: missing children, child abuse, domestic violence, disturbances involving weapons/violence and bomb threats', \n",
    "                                         4: ' Priority Four calls involve minor requests for police service. Examples include: found property, most parking violations, etc.',\n",
    "                                         0: 'Priority E calls involve an imminent threat to life. Examples include: officer or person down, no detail accidents and attempted suicide',\n",
    "                                         9: 'Priority Nine calls involve requests for police service, which have limited or no suspect information. Examples include: petty theft, vehicle break-in and false use of another’s identity.'}\n",
    "main_df['priority_short'] = main_df['priority'].map(priority_short_description_dictionary)\n",
    "main_df['priority_long'] = main_df['priority'].map(priority_long_description_dictionary)\n",
    "\n"
   ]
  },
  {
   "cell_type": "code",
   "execution_count": 151,
   "id": "ea04f34a",
   "metadata": {},
   "outputs": [],
   "source": [
    "# Converting object of date_time to an actual datetime\n",
    "main_df['date_time'] = pd.to_datetime(main_df['date_time'])"
   ]
  },
  {
   "cell_type": "code",
   "execution_count": 158,
   "id": "377a5819",
   "metadata": {},
   "outputs": [],
   "source": [
    "main_df= main_df.loc[:,['incident_num', \n",
    "                        'date_time',\n",
    "                        'day_of_week',\n",
    "                        'address_number_primary',\n",
    "                        'address_dir_primary',\n",
    "                        'address_road_primary',\n",
    "                        'address_sfx_primary',\n",
    "                        'address_dir_intersecting',\n",
    "                        'address_road_intersecting',\n",
    "                        'address_sfx_intersecting',\n",
    "                        'call_type',\n",
    "                        'call_type_description',\n",
    "                        'disposition',\n",
    "                        'dispo_description',\n",
    "                        'beat_code',\n",
    "                        'beat_neighborhood',\n",
    "                        'priority',\n",
    "                        'priority_short',\n",
    "                        'priority_long']]\n"
   ]
  },
  {
   "cell_type": "raw",
   "id": "67cf3a50",
   "metadata": {},
   "source": [
    "main_df.head()"
   ]
  },
  {
   "cell_type": "code",
   "execution_count": 154,
   "id": "516b56f3",
   "metadata": {},
   "outputs": [
    {
     "name": "stdout",
     "output_type": "stream",
     "text": [
      "<class 'pandas.core.frame.DataFrame'>\n",
      "Int64Index: 28308 entries, 0 to 28307\n",
      "Data columns (total 19 columns):\n",
      " #   Column                     Non-Null Count  Dtype         \n",
      "---  ------                     --------------  -----         \n",
      " 0   incident_num               28308 non-null  object        \n",
      " 1   date_time                  28308 non-null  datetime64[ns]\n",
      " 2   day_of_week                28308 non-null  int64         \n",
      " 3   address_number_primary     28308 non-null  int64         \n",
      " 4   address_dir_primary        1352 non-null   object        \n",
      " 5   address_road_primary       28307 non-null  object        \n",
      " 6   address_sfx_primary        26077 non-null  object        \n",
      " 7   address_dir_intersecting   0 non-null      float64       \n",
      " 8   address_road_intersecting  4490 non-null   object        \n",
      " 9   address_sfx_intersecting   0 non-null      float64       \n",
      " 10  call_type                  28308 non-null  object        \n",
      " 11  call_type_description      28308 non-null  object        \n",
      " 12  disposition                28308 non-null  object        \n",
      " 13  dispo_description          28308 non-null  object        \n",
      " 14  beat_code                  28308 non-null  int64         \n",
      " 15  beat_neighborhood          28308 non-null  object        \n",
      " 16  priority                   28308 non-null  int64         \n",
      " 17  priority_short             28308 non-null  object        \n",
      " 18  priority_long              28308 non-null  object        \n",
      "dtypes: datetime64[ns](1), float64(2), int64(4), object(12)\n",
      "memory usage: 4.3+ MB\n"
     ]
    }
   ],
   "source": [
    "main_df.info()"
   ]
  },
  {
   "cell_type": "code",
   "execution_count": 155,
   "id": "d58cd0a2",
   "metadata": {},
   "outputs": [
    {
     "data": {
      "text/plain": [
       "415        4000\n",
       "SELENF     1676\n",
       "T          1549\n",
       "459A       1386\n",
       "CW         1134\n",
       "           ... \n",
       "ALERT3        1\n",
       "272           1\n",
       "INFOX         1\n",
       "1181-CR       1\n",
       "595           1\n",
       "Name: call_type, Length: 203, dtype: int64"
      ]
     },
     "execution_count": 155,
     "metadata": {},
     "output_type": "execute_result"
    }
   ],
   "source": [
    "main_df.call_type.value_counts()"
   ]
  },
  {
   "cell_type": "code",
   "execution_count": 156,
   "id": "5421d229",
   "metadata": {},
   "outputs": [
    {
     "data": {
      "text/plain": [
       "2    13775\n",
       "1     5520\n",
       "3     5449\n",
       "4     1697\n",
       "0     1543\n",
       "9      324\n",
       "Name: priority, dtype: int64"
      ]
     },
     "execution_count": 156,
     "metadata": {},
     "output_type": "execute_result"
    }
   ],
   "source": [
    "main_df.priority.value_counts()"
   ]
  },
  {
   "cell_type": "code",
   "execution_count": null,
   "id": "c89ff17c",
   "metadata": {},
   "outputs": [],
   "source": []
  }
 ],
 "metadata": {
  "kernelspec": {
   "display_name": "Python 3 (ipykernel)",
   "language": "python",
   "name": "python3"
  },
  "language_info": {
   "codemirror_mode": {
    "name": "ipython",
    "version": 3
   },
   "file_extension": ".py",
   "mimetype": "text/x-python",
   "name": "python",
   "nbconvert_exporter": "python",
   "pygments_lexer": "ipython3",
   "version": "3.10.4"
  }
 },
 "nbformat": 4,
 "nbformat_minor": 5
}
