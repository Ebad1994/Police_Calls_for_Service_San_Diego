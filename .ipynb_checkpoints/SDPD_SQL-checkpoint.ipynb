{
 "cells": [
  {
   "cell_type": "code",
   "execution_count": 17,
   "id": "d33740d0",
   "metadata": {},
   "outputs": [],
   "source": [
    "#Library\n",
    "import mysql.connector\n",
    "from mysql.connector import errorcode"
   ]
  },
  {
   "cell_type": "markdown",
   "id": "5409bdfc",
   "metadata": {},
   "source": [
    "# Initial Connection"
   ]
  },
  {
   "cell_type": "code",
   "execution_count": 30,
   "id": "cea5b572",
   "metadata": {},
   "outputs": [],
   "source": [
    "#Database\n",
    "database = 'SDPD'"
   ]
  },
  {
   "cell_type": "code",
   "execution_count": 31,
   "id": "7c6349d2",
   "metadata": {},
   "outputs": [],
   "source": [
    "#Initial Connection\n",
    "cnx = mysql.connector.connect(user='root',\n",
    "                              password='xxxxx',\n",
    "                              host='localhost',\n",
    "                              )\n",
    "cursor = cnx.cursor()"
   ]
  },
  {
   "cell_type": "markdown",
   "id": "9d96156b",
   "metadata": {},
   "source": [
    "# Drop if necessary"
   ]
  },
  {
   "cell_type": "code",
   "execution_count": 32,
   "id": "b1950c56",
   "metadata": {},
   "outputs": [],
   "source": [
    "#Drop DB\n",
    "mycursor = cnx.cursor()\n",
    "mycursor.execute(\"DROP DATABASE \" + database)\n"
   ]
  },
  {
   "cell_type": "markdown",
   "id": "b90e3cd4",
   "metadata": {},
   "source": [
    "# DB Setup"
   ]
  },
  {
   "cell_type": "code",
   "execution_count": 33,
   "id": "72aa2845",
   "metadata": {},
   "outputs": [
    {
     "name": "stdout",
     "output_type": "stream",
     "text": [
      "Database SDPD does not exists. Will Create\n",
      "Database SDPD created successfully.\n"
     ]
    }
   ],
   "source": [
    "def Create_DB(cursor):\n",
    "    try:\n",
    "        cursor.execute(\n",
    "            \"CREATE DATABASE {} DEFAULT CHARACTER SET 'utf8'\".format(database))\n",
    "    except mysql.connector.Error as err:\n",
    "        print(\"Failed creating database: {}\".format(err))\n",
    "        exit(1)\n",
    "\n",
    "try:\n",
    "    cursor.execute(\"USE {}\".format(database))\n",
    "    print(\"Using {}\".format(database))\n",
    "except mysql.connector.Error as err:\n",
    "    print(\"Database {} does not exists. Will Create\".format(database))\n",
    "    if err.errno == errorcode.ER_BAD_DB_ERROR:\n",
    "        Create_DB(cursor)\n",
    "        print(\"Database {} created successfully.\".format(database))\n",
    "        cnx.database = database\n",
    "    else:\n",
    "        print(err)\n",
    "        exit(1)"
   ]
  },
  {
   "cell_type": "markdown",
   "id": "63f054b1",
   "metadata": {},
   "source": [
    "# Tables"
   ]
  },
  {
   "cell_type": "code",
   "execution_count": 34,
   "id": "1543a6ab",
   "metadata": {},
   "outputs": [],
   "source": [
    "#Tables\n",
    "\n",
    "#initiate dictionary\n",
    "TABLES = {}\n",
    "\n",
    "#Add tables\n",
    "TABLES['Beats'] = (\n",
    "    \"CREATE TABLE `Beats` (\"\n",
    "    \"  `beat` smallint NOT NULL,\"\n",
    "    \"  `neighborhood` varchar(25) NOT NULL,\"\n",
    "    \"  PRIMARY KEY (`beat`), UNIQUE KEY `neighborhood` (`neighborhood`)\"\n",
    "    \") \")\n",
    "\n",
    "TABLES['Dispositions'] = (\n",
    "    \"CREATE TABLE `Dispositions` (\"\n",
    "    \"  `dispo_code` varchar(3) NOT NULL,\"\n",
    "    \"  `description` tinytext NOT NULL,\"\n",
    "    \"  PRIMARY KEY (`dispo_code`)\"\n",
    "    \") \")\n",
    "\n",
    "TABLES['Call_type'] = (\n",
    "    \"CREATE TABLE `Call_types` (\"\n",
    "    \"  `call_type` varchar(10) NOT NULL,\"\n",
    "    \"  `description` tinytext NOT NULL,\"\n",
    "    \"  PRIMARY KEY (`call_type`)\"\n",
    "    \") \")\n",
    "\n",
    "TABLES['Days'] = (\n",
    "    \"CREATE TABLE `Days` (\"\n",
    "    \"  `day_of_week` enum('1','2','3','4','5','6','7') NOT NULL,\"\n",
    "    \"  `day` varchar(9) NOT NULL,\"\n",
    "    \"  PRIMARY KEY (`day_of_week`)\"\n",
    "    \") \")\n",
    "\n",
    "TABLES['ServiceCalls'] = (\n",
    "    \"CREATE TABLE `Service_calls` (\"\n",
    "    \"  `incident_num` varchar(13) NOT NULL,\"\n",
    "    \"  `incident_date_time` datetime NOT NULL,\"\n",
    "    \"  `day_of_week` enum('1','2','3','4','5','6','7') NOT NULL,\"\n",
    "    \"  `call_type` varchar(10) NULL,\"\n",
    "    \"  `dispo_code` varchar(3) NULL,\"\n",
    "    \"  `beat` smallint NOT NULL,\"\n",
    "    \"  `priority` tinyint NOT NULL,\"\n",
    "    \"  `incident_year` year NOT NULL,\"\n",
    "    \"  PRIMARY KEY (`incident_num`),\"\n",
    "    \"  CONSTRAINT `service_calls_beat` FOREIGN KEY (`beat`)\"\n",
    "    \"     REFERENCES `Beats` (`beat`),\"\n",
    "    \"  CONSTRAINT `service_calls_dispo` FOREIGN KEY (`dispo_code`)\"\n",
    "    \"     REFERENCES `Dispositions` (`dispo_code`),\"\n",
    "    \"  CONSTRAINT `service_calls_call_type` FOREIGN KEY (`call_type`)\"\n",
    "    \"     REFERENCES `Call_types` (`call_type`),\"\n",
    "    \"  CONSTRAINT `service_calls_day` FOREIGN KEY (`day_of_week`)\"\n",
    "    \"     REFERENCES `Days` (`day_of_week`)\"\n",
    "    \") \")\n",
    "\n",
    "TABLES['Address'] = (\n",
    "    \"CREATE TABLE `Address` (\"\n",
    "    \"  `incident_num` varchar(13) NOT NULL,\"\n",
    "    \"  `address_number_primary` int(6)  NULL,\"\n",
    "    \"  `address_dir_primary` int(6)  NULL,\"\n",
    "    \"  `address_road_primary` varchar(25) NULL,\"\n",
    "    \"  `address_sfx_primary` varchar(10) NULL,\"\n",
    "    \"  `address_dir_intersecting` varchar(10) NULL,\"\n",
    "    \"  `address_road_intersecting` varchar(10) NULL,\"\n",
    "    \"  `address_sfx_intersecting` varchar(10) NULL,\"\n",
    "    \"  `address` varchar(80) NOT NULL,\"\n",
    "    \"  PRIMARY KEY (`incident_num`),\"\n",
    "    \"  CONSTRAINT `Address_ibfk_1` FOREIGN KEY (`incident_num`)\"\n",
    "    \"     REFERENCES `Service_calls` (`incident_num`)\"\n",
    "    \") \")\n",
    "\n",
    "TABLES['GeoLocations'] = (\n",
    "    \"CREATE TABLE `GeoLocations` (\"\n",
    "    \"  `incident_num` varchar(13) NOT NULL,\"\n",
    "    \"  `lat` Decimal(8,6) NOT NULL,\"\n",
    "    \"  `lng` Decimal(9,6) NOT NULL,\"\n",
    "    \"  PRIMARY KEY (`incident_num`),\"\n",
    "    \"  CONSTRAINT `GeoLocations_ibfk_1` FOREIGN KEY (`incident_num`)\"\n",
    "    \"     REFERENCES `Service_calls` (`incident_num`)\"\n",
    "    \") \")\n",
    "\n",
    "TABLES['Zipcodes'] = (\n",
    "    \"CREATE TABLE `Zipcodes` (\"\n",
    "    \"  `incident_num` varchar(13) NOT NULL,\"\n",
    "    \"  `Zipcode` MEDIUMINT(5) NOT NULL,\"\n",
    "    \"  PRIMARY KEY (`incident_num`),\"\n",
    "    \"  CONSTRAINT `Zipcodes_ibfk_1` FOREIGN KEY (`incident_num`)\"\n",
    "    \"     REFERENCES `Service_calls` (`incident_num`)\"\n",
    "    \") \")\n",
    "\n"
   ]
  },
  {
   "cell_type": "code",
   "execution_count": 35,
   "id": "012e2a81",
   "metadata": {},
   "outputs": [
    {
     "name": "stdout",
     "output_type": "stream",
     "text": [
      "Creating table Beats: OK\n",
      "Creating table Dispositions: OK\n",
      "Creating table Call_type: OK\n",
      "Creating table Days: OK\n",
      "Creating table ServiceCalls: OK\n",
      "Creating table Address: OK\n",
      "Creating table GeoLocations: OK\n",
      "Creating table Zipcodes: OK\n"
     ]
    }
   ],
   "source": [
    "cursor = cnx.cursor()\n",
    "\n",
    "for table_name in TABLES:\n",
    "    table_description = TABLES[table_name]\n",
    "    try:\n",
    "        print(\"Creating table {}: \".format(table_name), end='')\n",
    "        cursor.execute(table_description)\n",
    "    except mysql.connector.Error as err:\n",
    "        if err.errno == errorcode.ER_TABLE_EXISTS_ERROR:\n",
    "            print(\"already exists.\")\n",
    "        else:\n",
    "            print(err.msg)\n",
    "    else:\n",
    "        print(\"OK\")\n",
    "\n",
    "cursor.close()\n",
    "cnx.close()"
   ]
  },
  {
   "cell_type": "code",
   "execution_count": null,
   "id": "964881cb",
   "metadata": {},
   "outputs": [],
   "source": []
  }
 ],
 "metadata": {
  "kernelspec": {
   "display_name": "Python 3 (ipykernel)",
   "language": "python",
   "name": "python3"
  },
  "language_info": {
   "codemirror_mode": {
    "name": "ipython",
    "version": 3
   },
   "file_extension": ".py",
   "mimetype": "text/x-python",
   "name": "python",
   "nbconvert_exporter": "python",
   "pygments_lexer": "ipython3",
   "version": "3.9.12"
  }
 },
 "nbformat": 4,
 "nbformat_minor": 5
}
