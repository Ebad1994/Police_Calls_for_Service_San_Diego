{
 "cells": [
  {
   "cell_type": "code",
   "execution_count": 40,
   "id": "d33740d0",
   "metadata": {},
   "outputs": [],
   "source": [
    "#Library\n",
    "import mysql.connector\n",
    "from mysql.connector import errorcode"
   ]
  },
  {
   "cell_type": "markdown",
   "id": "5409bdfc",
   "metadata": {},
   "source": [
    "# Initial Connection"
   ]
  },
  {
   "cell_type": "code",
   "execution_count": 41,
   "id": "cea5b572",
   "metadata": {},
   "outputs": [],
   "source": [
    "#Database\n",
    "database = 'SDPD'"
   ]
  },
  {
   "cell_type": "code",
   "execution_count": 42,
   "id": "7c6349d2",
   "metadata": {},
   "outputs": [],
   "source": [
    "#Initial Connection\n",
    "cnx = mysql.connector.connect(user='Salvador',\n",
    "                              password='XXXXX',\n",
    "                              host='localhost',\n",
    "                              )\n",
    "cursor = cnx.cursor()"
   ]
  },
  {
   "cell_type": "markdown",
   "id": "4328e39c",
   "metadata": {},
   "source": [
    "# Drop if necessary"
   ]
  },
  {
   "cell_type": "code",
   "execution_count": 43,
   "id": "64dc690a",
   "metadata": {},
   "outputs": [
    {
     "ename": "DatabaseError",
     "evalue": "1317 (70100): Query execution was interrupted",
     "output_type": "error",
     "traceback": [
      "\u001b[0;31m---------------------------------------------------------------------------\u001b[0m",
      "\u001b[0;31mDatabaseError\u001b[0m                             Traceback (most recent call last)",
      "Input \u001b[0;32mIn [43]\u001b[0m, in \u001b[0;36m<cell line: 3>\u001b[0;34m()\u001b[0m\n\u001b[1;32m      1\u001b[0m \u001b[38;5;66;03m#Drop DB\u001b[39;00m\n\u001b[1;32m      2\u001b[0m mycursor \u001b[38;5;241m=\u001b[39m cnx\u001b[38;5;241m.\u001b[39mcursor()\n\u001b[0;32m----> 3\u001b[0m \u001b[43mmycursor\u001b[49m\u001b[38;5;241;43m.\u001b[39;49m\u001b[43mexecute\u001b[49m\u001b[43m(\u001b[49m\u001b[38;5;124;43m\"\u001b[39;49m\u001b[38;5;124;43mDROP DATABASE \u001b[39;49m\u001b[38;5;124;43m\"\u001b[39;49m\u001b[43m \u001b[49m\u001b[38;5;241;43m+\u001b[39;49m\u001b[43m \u001b[49m\u001b[43mdatabase\u001b[49m\u001b[43m)\u001b[49m\n",
      "File \u001b[0;32m~/opt/anaconda3/lib/python3.9/site-packages/mysql/connector/cursor.py:617\u001b[0m, in \u001b[0;36mMySQLCursor.execute\u001b[0;34m(self, operation, params, multi)\u001b[0m\n\u001b[1;32m    614\u001b[0m     \u001b[38;5;28;01mreturn\u001b[39;00m \u001b[38;5;28mself\u001b[39m\u001b[38;5;241m.\u001b[39m_execute_iter(\u001b[38;5;28mself\u001b[39m\u001b[38;5;241m.\u001b[39m_connection\u001b[38;5;241m.\u001b[39mcmd_query_iter(stmt))\n\u001b[1;32m    616\u001b[0m \u001b[38;5;28;01mtry\u001b[39;00m:\n\u001b[0;32m--> 617\u001b[0m     \u001b[38;5;28mself\u001b[39m\u001b[38;5;241m.\u001b[39m_handle_result(\u001b[38;5;28;43mself\u001b[39;49m\u001b[38;5;241;43m.\u001b[39;49m\u001b[43m_connection\u001b[49m\u001b[38;5;241;43m.\u001b[39;49m\u001b[43mcmd_query\u001b[49m\u001b[43m(\u001b[49m\u001b[43mstmt\u001b[49m\u001b[43m)\u001b[49m)\n\u001b[1;32m    618\u001b[0m \u001b[38;5;28;01mexcept\u001b[39;00m InterfaceError \u001b[38;5;28;01mas\u001b[39;00m err:\n\u001b[1;32m    619\u001b[0m     \u001b[38;5;28;01mif\u001b[39;00m \u001b[38;5;28mself\u001b[39m\u001b[38;5;241m.\u001b[39m_connection\u001b[38;5;241m.\u001b[39mhave_next_result:\n",
      "File \u001b[0;32m~/opt/anaconda3/lib/python3.9/site-packages/mysql/connector/connection.py:1046\u001b[0m, in \u001b[0;36mMySQLConnection.cmd_query\u001b[0;34m(self, query, raw, buffered, raw_as_string)\u001b[0m\n\u001b[1;32m   1044\u001b[0m query \u001b[38;5;241m=\u001b[39m \u001b[38;5;28mbytes\u001b[39m(packet)\n\u001b[1;32m   1045\u001b[0m \u001b[38;5;28;01mtry\u001b[39;00m:\n\u001b[0;32m-> 1046\u001b[0m     result \u001b[38;5;241m=\u001b[39m \u001b[38;5;28;43mself\u001b[39;49m\u001b[38;5;241;43m.\u001b[39;49m\u001b[43m_handle_result\u001b[49m\u001b[43m(\u001b[49m\u001b[38;5;28;43mself\u001b[39;49m\u001b[38;5;241;43m.\u001b[39;49m\u001b[43m_send_cmd\u001b[49m\u001b[43m(\u001b[49m\u001b[43mServerCmd\u001b[49m\u001b[38;5;241;43m.\u001b[39;49m\u001b[43mQUERY\u001b[49m\u001b[43m,\u001b[49m\u001b[43m \u001b[49m\u001b[43mquery\u001b[49m\u001b[43m)\u001b[49m\u001b[43m)\u001b[49m\n\u001b[1;32m   1047\u001b[0m \u001b[38;5;28;01mexcept\u001b[39;00m ProgrammingError \u001b[38;5;28;01mas\u001b[39;00m err:\n\u001b[1;32m   1048\u001b[0m     \u001b[38;5;28;01mif\u001b[39;00m err\u001b[38;5;241m.\u001b[39merrno \u001b[38;5;241m==\u001b[39m \u001b[38;5;241m3948\u001b[39m \u001b[38;5;129;01mand\u001b[39;00m \u001b[38;5;124m\"\u001b[39m\u001b[38;5;124mLoading local data is disabled\u001b[39m\u001b[38;5;124m\"\u001b[39m \u001b[38;5;129;01min\u001b[39;00m err\u001b[38;5;241m.\u001b[39mmsg:\n",
      "File \u001b[0;32m~/opt/anaconda3/lib/python3.9/site-packages/mysql/connector/connection.py:824\u001b[0m, in \u001b[0;36mMySQLConnection._handle_result\u001b[0;34m(self, packet)\u001b[0m\n\u001b[1;32m    822\u001b[0m     \u001b[38;5;28;01mreturn\u001b[39;00m \u001b[38;5;28mself\u001b[39m\u001b[38;5;241m.\u001b[39m_handle_eof(packet)\n\u001b[1;32m    823\u001b[0m \u001b[38;5;28;01mif\u001b[39;00m packet[\u001b[38;5;241m4\u001b[39m] \u001b[38;5;241m==\u001b[39m \u001b[38;5;241m255\u001b[39m:\n\u001b[0;32m--> 824\u001b[0m     \u001b[38;5;28;01mraise\u001b[39;00m get_exception(packet)\n\u001b[1;32m    826\u001b[0m \u001b[38;5;66;03m# We have a text result set\u001b[39;00m\n\u001b[1;32m    827\u001b[0m column_count \u001b[38;5;241m=\u001b[39m \u001b[38;5;28mself\u001b[39m\u001b[38;5;241m.\u001b[39m_protocol\u001b[38;5;241m.\u001b[39mparse_column_count(packet)\n",
      "\u001b[0;31mDatabaseError\u001b[0m: 1317 (70100): Query execution was interrupted"
     ]
    }
   ],
   "source": [
    "#Drop DB\n",
    "mycursor = cnx.cursor()\n",
    "mycursor.execute(\"DROP DATABASE \" + database)\n"
   ]
  },
  {
   "cell_type": "markdown",
   "id": "b90e3cd4",
   "metadata": {},
   "source": [
    "# DB Setup"
   ]
  },
  {
   "cell_type": "code",
   "execution_count": null,
   "id": "72aa2845",
   "metadata": {},
   "outputs": [],
   "source": [
    "def Create_DB(cursor):\n",
    "    try:\n",
    "        cursor.execute(\n",
    "            \"CREATE DATABASE {} DEFAULT CHARACTER SET 'utf8'\".format(database))\n",
    "    except mysql.connector.Error as err:\n",
    "        print(\"Failed creating database: {}\".format(err))\n",
    "        exit(1)\n",
    "\n",
    "try:\n",
    "    cursor.execute(\"USE {}\".format(database))\n",
    "    print(\"Using {}\".format(database))\n",
    "except mysql.connector.Error as err:\n",
    "    print(\"Database {} does not exists. Will Create\".format(database))\n",
    "    if err.errno == errorcode.ER_BAD_DB_ERROR:\n",
    "        Create_DB(cursor)\n",
    "        print(\"Database {} created successfully.\".format(database))\n",
    "        cnx.database = database\n",
    "    else:\n",
    "        print(err)\n",
    "        exit(1)"
   ]
  },
  {
   "cell_type": "markdown",
   "id": "63f054b1",
   "metadata": {},
   "source": [
    "# Tables"
   ]
  },
  {
   "cell_type": "code",
   "execution_count": 34,
   "id": "1543a6ab",
   "metadata": {},
   "outputs": [],
   "source": [
    "#Tables\n",
    "\n",
    "#initiate dictionary\n",
    "TABLES = {}\n",
    "\n",
    "#Add tables\n",
    "TABLES['Beats'] = (\n",
    "    \"CREATE TABLE `Beats` (\"\n",
    "    \"  `beat` smallint NOT NULL,\"\n",
    "    \"  `neighborhood` varchar(25) NOT NULL,\"\n",
    "    \"  PRIMARY KEY (`beat`), UNIQUE KEY `neighborhood` (`neighborhood`)\"\n",
    "    \") \")\n",
    "\n",
    "TABLES['Dispositions'] = (\n",
    "    \"CREATE TABLE `Dispositions` (\"\n",
    "    \"  `dispo_code` varchar(3) NOT NULL,\"\n",
    "    \"  `description` tinytext NOT NULL,\"\n",
    "    \"  PRIMARY KEY (`dispo_code`)\"\n",
    "    \") \")\n",
    "\n",
    "TABLES['Call_type'] = (\n",
    "    \"CREATE TABLE `Call_types` (\"\n",
    "    \"  `call_type` varchar(10) NOT NULL,\"\n",
    "    \"  `description` tinytext NOT NULL,\"\n",
    "    \"  PRIMARY KEY (`call_type`)\"\n",
    "    \") \")\n",
    "\n",
    "TABLES['Days'] = (\n",
    "    \"CREATE TABLE `Days` (\"\n",
    "    \"  `day_of_week` enum('1','2','3','4','5','6','7') NOT NULL,\"\n",
    "    \"  `day` varchar(9) NOT NULL,\"\n",
    "    \"  PRIMARY KEY (`day_of_week`)\"\n",
    "    \") \")\n",
    "\n",
    "TABLES['ServiceCalls'] = (\n",
    "    \"CREATE TABLE `Service_calls` (\"\n",
    "    \"  `incident_num` varchar(13) NOT NULL,\"\n",
    "    \"  `incident_date_time` datetime NOT NULL,\"\n",
    "    \"  `day_of_week` enum('1','2','3','4','5','6','7') NOT NULL,\"\n",
    "    \"  `call_type` varchar(10) NULL,\"\n",
    "    \"  `dispo_code` varchar(3) NULL,\"\n",
    "    \"  `beat` smallint NOT NULL,\"\n",
    "    \"  `priority` tinyint NOT NULL,\"\n",
    "    \"  `incident_year` year NOT NULL,\"\n",
    "    \"  PRIMARY KEY (`incident_num`),\"\n",
    "    \"  CONSTRAINT `service_calls_beat` FOREIGN KEY (`beat`)\"\n",
    "    \"     REFERENCES `Beats` (`beat`),\"\n",
    "    \"  CONSTRAINT `service_calls_dispo` FOREIGN KEY (`dispo_code`)\"\n",
    "    \"     REFERENCES `Dispositions` (`dispo_code`),\"\n",
    "    \"  CONSTRAINT `service_calls_call_type` FOREIGN KEY (`call_type`)\"\n",
    "    \"     REFERENCES `Call_types` (`call_type`),\"\n",
    "    \"  CONSTRAINT `service_calls_day` FOREIGN KEY (`day_of_week`)\"\n",
    "    \"     REFERENCES `Days` (`day_of_week`)\"\n",
    "    \") \")\n",
    "\n",
    "TABLES['Address'] = (\n",
    "    \"CREATE TABLE `Address` (\"\n",
    "    \"  `incident_num` varchar(13) NOT NULL,\"\n",
    "    \"  `address_number_primary` int(6)  NULL,\"\n",
    "    \"  `address_dir_primary` int(6)  NULL,\"\n",
    "    \"  `address_road_primary` varchar(25) NULL,\"\n",
    "    \"  `address_sfx_primary` varchar(10) NULL,\"\n",
    "    \"  `address_dir_intersecting` varchar(10) NULL,\"\n",
    "    \"  `address_road_intersecting` varchar(10) NULL,\"\n",
    "    \"  `address_sfx_intersecting` varchar(10) NULL,\"\n",
    "    \"  `address` varchar(80) NOT NULL,\"\n",
    "    \"  PRIMARY KEY (`incident_num`),\"\n",
    "    \"  CONSTRAINT `Address_ibfk_1` FOREIGN KEY (`incident_num`)\"\n",
    "    \"     REFERENCES `Service_calls` (`incident_num`)\"\n",
    "    \") \")\n",
    "\n",
    "TABLES['GeoLocations'] = (\n",
    "    \"CREATE TABLE `GeoLocations` (\"\n",
    "    \"  `incident_num` varchar(13) NOT NULL,\"\n",
    "    \"  `lat` Decimal(8,6) NOT NULL,\"\n",
    "    \"  `lng` Decimal(9,6) NOT NULL,\"\n",
    "    \"  PRIMARY KEY (`incident_num`),\"\n",
    "    \"  CONSTRAINT `GeoLocations_ibfk_1` FOREIGN KEY (`incident_num`)\"\n",
    "    \"     REFERENCES `Service_calls` (`incident_num`)\"\n",
    "    \") \")\n",
    "\n",
    "TABLES['Zipcodes'] = (\n",
    "    \"CREATE TABLE `Zipcodes` (\"\n",
    "    \"  `incident_num` varchar(13) NOT NULL,\"\n",
    "    \"  `Zipcode` MEDIUMINT(5) NOT NULL,\"\n",
    "    \"  PRIMARY KEY (`incident_num`),\"\n",
    "    \"  CONSTRAINT `Zipcodes_ibfk_1` FOREIGN KEY (`incident_num`)\"\n",
    "    \"     REFERENCES `Service_calls` (`incident_num`)\"\n",
    "    \") \")\n",
    "\n"
   ]
  },
  {
   "cell_type": "code",
   "execution_count": 35,
   "id": "012e2a81",
   "metadata": {},
   "outputs": [
    {
     "name": "stdout",
     "output_type": "stream",
     "text": [
      "Creating table Beats: OK\n",
      "Creating table Dispositions: OK\n",
      "Creating table Call_type: OK\n",
      "Creating table Days: OK\n",
      "Creating table ServiceCalls: OK\n",
      "Creating table Address: OK\n",
      "Creating table GeoLocations: OK\n",
      "Creating table Zipcodes: OK\n"
     ]
    }
   ],
   "source": [
    "cursor = cnx.cursor()\n",
    "\n",
    "for table_name in TABLES:\n",
    "    table_description = TABLES[table_name]\n",
    "    try:\n",
    "        print(\"Creating table {}: \".format(table_name), end='')\n",
    "        cursor.execute(table_description)\n",
    "    except mysql.connector.Error as err:\n",
    "        if err.errno == errorcode.ER_TABLE_EXISTS_ERROR:\n",
    "            print(\"already exists.\")\n",
    "        else:\n",
    "            print(err.msg)\n",
    "    else:\n",
    "        print(\"OK\")\n",
    "\n",
    "cursor.close()\n",
    "cnx.close()"
   ]
  },
  {
   "cell_type": "code",
   "execution_count": null,
   "id": "964881cb",
   "metadata": {},
   "outputs": [],
   "source": []
  }
 ],
 "metadata": {
  "kernelspec": {
   "display_name": "Python 3 (ipykernel)",
   "language": "python",
   "name": "python3"
  },
  "language_info": {
   "codemirror_mode": {
    "name": "ipython",
    "version": 3
   },
   "file_extension": ".py",
   "mimetype": "text/x-python",
   "name": "python",
   "nbconvert_exporter": "python",
   "pygments_lexer": "ipython3",
   "version": "3.9.12"
  }
 },
 "nbformat": 4,
 "nbformat_minor": 5
}
