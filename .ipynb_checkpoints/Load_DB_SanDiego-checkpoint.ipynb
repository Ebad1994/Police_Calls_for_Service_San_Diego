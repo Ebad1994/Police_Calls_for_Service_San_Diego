{
 "cells": [
  {
   "cell_type": "code",
   "execution_count": 46,
   "id": "00add51c",
   "metadata": {},
   "outputs": [],
   "source": [
    "#Libraries\n",
    "import mysql.connector\n",
    "import pandas as pd\n",
    "from datetime import datetime\n",
    "from tqdm import tqdm\n",
    "from sqlalchemy import create_engine\n",
    "import pymysql\n",
    "pymysql.install_as_MySQLdb()\n",
    "import requests\n"
   ]
  },
  {
   "cell_type": "markdown",
   "id": "8771b324",
   "metadata": {},
   "source": [
    "## DB Coonnect"
   ]
  },
  {
   "cell_type": "code",
   "execution_count": 47,
   "id": "f2e4ad21",
   "metadata": {},
   "outputs": [],
   "source": [
    "database = \"San_Diego_PD_Calls\"\n",
    "user = 'Salvador'\n",
    "password = getpass.getpass(‘Enter password: ’),\n",
    "host = 'localhost'\n",
    "GOOGLE_API_KEY = 'XXXXX'\n",
    "user_agent_name = 'Sal-App'"
   ]
  },
  {
   "cell_type": "code",
   "execution_count": 48,
   "id": "e7a13193",
   "metadata": {},
   "outputs": [],
   "source": [
    "#Initial Connection\n",
    "cnx = mysql.connector.connect(user=user,\n",
    "                              password=password,\n",
    "                              host=host,\n",
    "                              database=database\n",
    "                              )\n",
    "cursor = cnx.cursor()"
   ]
  },
  {
   "cell_type": "markdown",
   "id": "bbfdb790",
   "metadata": {},
   "source": [
    "##  Find if Row exists"
   ]
  },
  {
   "cell_type": "code",
   "execution_count": 49,
   "id": "4a14aff7",
   "metadata": {},
   "outputs": [],
   "source": [
    "def Find_Data(row,cursor,table, key):\n",
    "    try:\n",
    "        #print(f\"SELECT * from {table} where {key} = '{row[key]}'\")\n",
    "        cursor.execute(f\"SELECT * from {table} where {key} = '{row[key]}'\")\n",
    "        # Fetch a record\n",
    "        result = cursor.fetchone()\n",
    "    except:\n",
    "        result = 0\n",
    "    \n",
    "    return result"
   ]
  },
  {
   "cell_type": "markdown",
   "id": "0db2fdfe",
   "metadata": {},
   "source": [
    "## Load Variables"
   ]
  },
  {
   "cell_type": "code",
   "execution_count": 50,
   "id": "7a60f821",
   "metadata": {},
   "outputs": [],
   "source": [
    "#Calls\n",
    "url = f\"http://seshat.datasd.org/pd/pd_cfs_calltypes_datasd.csv\"\n",
    "call_type = pd.read_csv(url).dropna(axis=1)\n"
   ]
  },
  {
   "cell_type": "code",
   "execution_count": 51,
   "id": "ddb52f82",
   "metadata": {},
   "outputs": [],
   "source": [
    "#Dispos\n",
    "url = f\"http://seshat.datasd.org/pd/pd_dispo_codes_datasd.csv\"\n",
    "disposition = pd.read_csv(url).dropna(axis=1)\n",
    "disposition.loc[len(disposition.index)] = ['DEF', 'DEF'] \n",
    "disposition.loc[len(disposition.index)] = ['SS-', 'SS-'] "
   ]
  },
  {
   "cell_type": "code",
   "execution_count": 52,
   "id": "1104f35c",
   "metadata": {},
   "outputs": [],
   "source": [
    "#Beats\n",
    "beat = pd.read_csv('beat-neighborhood.csv').dropna(axis=1)\n",
    "beat_split = beat['beat,neighborhood'].str.split(pat=\",\",\n",
    "                                                 expand=True)\n",
    "beat_split = beat_split.rename(columns={0: \"beat\",\n",
    "                                        1: \"neighborhood\"})\n",
    "beat_split.loc[len(beat_split.index)] = [-1, 'No Beat']\n",
    "beat_split.loc[len(beat_split.index)] = [700, '700'] \n",
    "beat_split.loc[len(beat_split.index)] = [62, '62']\n",
    "beat_split.loc[len(beat_split.index)] = [63, '63']\n",
    "beat_split.loc[len(beat_split.index)] = [64, '64'] \n",
    "beat_split.loc[len(beat_split.index)] = [0, '0'] \n",
    "beat_split.loc[len(beat_split.index)] = [300, '300']\n",
    "beat_split.loc[len(beat_split.index)] = [9, '9'] "
   ]
  },
  {
   "cell_type": "code",
   "execution_count": 53,
   "id": "0909945f",
   "metadata": {},
   "outputs": [],
   "source": [
    "# Create dataframe\n",
    "days = pd.DataFrame({\n",
    "    'day_of_week':list(range(1,8)),\n",
    "    'day':['Sunday','Monday','Tuesday','Wednesday','Thursday','Friday','Saturday'],\n",
    "})"
   ]
  },
  {
   "cell_type": "code",
   "execution_count": 54,
   "id": "1316f407",
   "metadata": {},
   "outputs": [],
   "source": [
    "# df to dict\n",
    "call_type_dict = call_type.to_dict('records')\n",
    "disposition_dict = disposition.to_dict('records')\n",
    "beat_dict = beat_split.to_dict('records')\n",
    "days_dict = days.to_dict('records')"
   ]
  },
  {
   "cell_type": "code",
   "execution_count": 55,
   "id": "c06c397d",
   "metadata": {},
   "outputs": [],
   "source": [
    "# SQL Variable Tables\n",
    "SQL_Tables = pd.DataFrame({\n",
    "    'Table':['Call_types','Dispositions','Beats'],\n",
    "    'Key':['call_type','dispo_code','beat'],\n",
    "    'Col2':['description','description','neighborhood'],\n",
    "    'dict':[call_type_dict,disposition_dict,beat_dict]\n",
    "})\n",
    "SQL_Tables_dict = SQL_Tables.to_dict('records')"
   ]
  },
  {
   "cell_type": "code",
   "execution_count": 56,
   "id": "62922f29",
   "metadata": {},
   "outputs": [],
   "source": [
    "#Load Data\n",
    "def Load_Data(row,cursor,table,Col1,Col2):\n",
    "    # Create a new record\n",
    "    sql = f\"\"\"INSERT INTO {table} ({Col1},\n",
    "                                    {Col2}\n",
    "                                    ) VALUES (%s, %s)\"\"\"\n",
    "\n",
    "    # Execute the query\n",
    "    cursor.execute(sql, (row[Col1],row[Col2]))\n",
    "    cnx.commit()  "
   ]
  },
  {
   "cell_type": "code",
   "execution_count": 57,
   "id": "e3b16e12",
   "metadata": {},
   "outputs": [
    {
     "name": "stderr",
     "output_type": "stream",
     "text": [
      "100%|█████████████████████████████████████████████| 3/3 [00:00<00:00, 11.39it/s]\n"
     ]
    }
   ],
   "source": [
    "for upper_row in tqdm(SQL_Tables_dict):\n",
    "    for row in upper_row['dict']:\n",
    "        Data_Found = Find_Data(row,cursor,\n",
    "                               upper_row['Table'],\n",
    "                               upper_row['Key'])\n",
    "        if Data_Found is None:\n",
    "            #If no data found load \n",
    "            Load_Data(row,\n",
    "                      cursor,\n",
    "                      upper_row['Table'],\n",
    "                      upper_row['Key'],\n",
    "                      upper_row['Col2'])\n",
    "        else:\n",
    "            pass"
   ]
  },
  {
   "cell_type": "markdown",
   "id": "9ffc936e",
   "metadata": {},
   "source": [
    "# Load Historical Calls"
   ]
  },
  {
   "cell_type": "code",
   "execution_count": 58,
   "id": "3eb41267",
   "metadata": {},
   "outputs": [],
   "source": [
    "#function to download yearly data\n",
    "def Get_Data(year):\n",
    "    url = f\"https://seshat.datasd.org/pd/pd_calls_for_service_{year}_datasd.csv\"\n",
    "    df = pd.read_csv(url)\n",
    "    return df"
   ]
  },
  {
   "cell_type": "code",
   "execution_count": 59,
   "id": "e5a268ed",
   "metadata": {},
   "outputs": [
    {
     "data": {
      "text/plain": [
       "[2020, 2021, 2022, 2023]"
      ]
     },
     "execution_count": 59,
     "metadata": {},
     "output_type": "execute_result"
    }
   ],
   "source": [
    "Years = list(range(2020,datetime.now().year +1))\n",
    "Years"
   ]
  },
  {
   "cell_type": "markdown",
   "id": "b549ec0c",
   "metadata": {},
   "source": [
    "### Load Calls"
   ]
  },
  {
   "cell_type": "code",
   "execution_count": 60,
   "id": "3d3b293d",
   "metadata": {},
   "outputs": [],
   "source": [
    "#Calls\n",
    "def Load_Calls(row,cursor,table,year):\n",
    "    # Create a new record\n",
    "    sql = f\"\"\"INSERT INTO {table} ( incident_num,\n",
    "                                    incident_date_time,\n",
    "                                    call_type,\n",
    "                                    dispo_code,\n",
    "                                    beat,\n",
    "                                    priority,\n",
    "                                    incident_year\n",
    "                                    ) VALUES (%s,%s,%s,%s,%s,%s,%s)\"\"\"\n",
    "\n",
    "    # Execute the query\n",
    "    cursor.execute(sql, (row['incident_num'],\n",
    "                         row['date_time'],\n",
    "                         row['call_type'],\n",
    "                         row['disposition'],\n",
    "                         row['beat'],\n",
    "                         row['priority'],\n",
    "                         year,\n",
    "                        )\n",
    "                  )\n",
    "    cnx.commit()"
   ]
  },
  {
   "cell_type": "code",
   "execution_count": 61,
   "id": "ec7f6509",
   "metadata": {},
   "outputs": [],
   "source": [
    "#Calls\n",
    "def Load_Calls_NoBeat(row,cursor,table,year):\n",
    "    # Create a new record\n",
    "    sql = f\"\"\"INSERT INTO {table} ( incident_num,\n",
    "                                    incident_date_time,\n",
    "                                    call_type,\n",
    "                                    dispo_code,\n",
    "                                    beat,\n",
    "                                    priority,\n",
    "                                    incident_year\n",
    "                                    ) VALUES (%s,%s,%s,%s,%s,%s,%s)\"\"\"\n",
    "\n",
    "    # Execute the query\n",
    "    cursor.execute(sql, (row['incident_num'],\n",
    "                         row['date_time'],\n",
    "                         row['call_type'],\n",
    "                         row['disposition'],\n",
    "                         0,\n",
    "                         row['priority'],\n",
    "                         year,\n",
    "                        )\n",
    "                  )\n",
    "    cnx.commit()  "
   ]
  },
  {
   "cell_type": "code",
   "execution_count": 64,
   "id": "27571314",
   "metadata": {},
   "outputs": [
    {
     "name": "stderr",
     "output_type": "stream",
     "text": [
      "100%|█████████████████████████████████| 567290/567290 [05:17<00:00, 1784.31it/s]\n",
      "100%|█████████████████████████████████| 568947/568947 [04:38<00:00, 2045.63it/s]\n",
      "100%|█████████████████████████████████| 499256/499256 [04:07<00:00, 2018.49it/s]\n",
      "100%|███████████████████████████████████| 50287/50287 [00:28<00:00, 1764.96it/s]\n"
     ]
    }
   ],
   "source": [
    "for year in Years:\n",
    "    yearly_data = Get_Data(year)\n",
    "    yearly_data_dict = yearly_data.to_dict('records')\n",
    "    for row in tqdm(yearly_data_dict):\n",
    "        \n",
    "        #Load Service Calls\n",
    "        Table = 'Service_calls'\n",
    "        Key = 'incident_num'\n",
    "        #Verify if Data is in table\n",
    "        Data_Found = Find_Data(row,cursor,Table,Key)\n",
    "        if Data_Found is None:\n",
    "            #If no data found load\n",
    "            try:\n",
    "                Load_Calls(row,cursor,Table,year)\n",
    "            except:\n",
    "                try:\n",
    "                    Load_Calls_NoBeat(row,cursor,Table,year)\n",
    "                except:\n",
    "                    print(row)\n",
    "                \n",
    "        else:\n",
    "            pass"
   ]
  },
  {
   "cell_type": "markdown",
   "id": "bede5dfa",
   "metadata": {},
   "source": [
    "### Load Address"
   ]
  },
  {
   "cell_type": "code",
   "execution_count": 65,
   "id": "e29c55ee",
   "metadata": {},
   "outputs": [],
   "source": [
    "#Address\n",
    "def Load_Calls_Address(row,cursor,table):\n",
    "    address_list = [row['address_number_primary'],\n",
    "               row['address_dir_primary'],\n",
    "               row['address_road_primary'],\n",
    "               row['address_sfx_primary'],\n",
    "                    'San Diego CA'\n",
    "                   ]\n",
    "    \n",
    "    def concatenate_elements(elements):\n",
    "        result = ''\n",
    "        for element in elements:\n",
    "            if element is not None and not pd.isnull(element) and element != 0:\n",
    "                result += str(element) + ' '\n",
    "        return result.strip()\n",
    "    \n",
    "    \n",
    "    address = concatenate_elements(address_list)\n",
    "    \n",
    "    # Create a new record\n",
    "    sql = f\"\"\"INSERT INTO {table} ( incident_num,\n",
    "                                    address_number_primary,\n",
    "                                    address_dir_primary,\n",
    "                                    address_road_primary,\n",
    "                                    address_sfx_primary,\n",
    "                                    address_dir_intersecting,\n",
    "                                    address_road_intersecting,\n",
    "                                    address_sfx_intersecting,\n",
    "                                    address\n",
    "                                    ) VALUES (%s,%s,%s,%s,%s,%s,%s,%s,%s)\"\"\"\n",
    "\n",
    "    # Execute the query\n",
    "    cursor.execute(sql, (row['incident_num'],\n",
    "                         row['address_number_primary'],\n",
    "                         row['address_dir_primary'],\n",
    "                         row['address_road_primary'],\n",
    "                         row['address_sfx_primary'],\n",
    "                         row['address_dir_intersecting'],\n",
    "                         row['address_road_intersecting'],\n",
    "                         row['address_sfx_intersecting'],\n",
    "                         address\n",
    "                        )\n",
    "                  )\n",
    "    cnx.commit()"
   ]
  },
  {
   "cell_type": "code",
   "execution_count": null,
   "id": "9690e0b5",
   "metadata": {},
   "outputs": [
    {
     "name": "stderr",
     "output_type": "stream",
     "text": [
      " 96%|███████████████████████████████▌ | 542927/567290 [06:13<00:17, 1354.65it/s]"
     ]
    }
   ],
   "source": [
    "#Load Address\n",
    "for year in Years:\n",
    "    yearly_data = Get_Data(year)\n",
    "    yearly_data_dict = yearly_data.to_dict('records')\n",
    "    for row in tqdm(yearly_data_dict):\n",
    "        #Load Service Calls Address        \n",
    "        Table = 'Address'\n",
    "        Key = 'incident_num'\n",
    "        #Verify if Data is in table\n",
    "        Data_Found = Find_Data(row,cursor,Table,Key)\n",
    "        if Data_Found is None:\n",
    "            #If no data found load\n",
    "            try:\n",
    "                Load_Calls_Address(row,cursor,Table)\n",
    "            except:\n",
    "                print(row)\n",
    "                \n",
    "                \n",
    "        else:\n",
    "            pass"
   ]
  },
  {
   "cell_type": "code",
   "execution_count": 45,
   "id": "754109a7",
   "metadata": {},
   "outputs": [],
   "source": [
    "#Testing Area\n",
    "import math\n",
    "\n",
    "incident_num = 'E20010005786'\n",
    "address_number_primary = 0\n",
    "address_dir_primary = math.nan\n",
    "address_road_primary = 'BARNETT'\n",
    "address_sfx_primary = 'AVE'\n",
    "address_dir_intersecting = math.nan\n",
    "address_road_intersecting = 'PACIFIC HWY SB ON RAMP'\n",
    "address_sfx_intersecting = math.nan\n",
    "\n",
    "\n",
    "\n",
    "\n",
    "address_list = [address_number_primary,\n",
    "               address_dir_primary,\n",
    "               address_road_primary,\n",
    "               address_sfx_primary,\n",
    "                    'San Diego CA'\n",
    "                   ]\n",
    "    \n",
    "def concatenate_elements(elements):\n",
    "    result = ''\n",
    "    for element in elements:\n",
    "        if element is not None and not pd.isnull(element) and element != 0:\n",
    "            result += str(element) + ' '\n",
    "    return result.strip()\n",
    "\n",
    "\n",
    "address = concatenate_elements(address_list)\n",
    "\n",
    "# Create a new record\n",
    "sql = f\"\"\"INSERT INTO Address( incident_num,\n",
    "                                address_number_primary,\n",
    "                                address_dir_primary,\n",
    "                                address_road_primary,\n",
    "                                address_sfx_primary,\n",
    "                                address_dir_intersecting,\n",
    "                                address_road_intersecting,\n",
    "                                address_sfx_intersecting,\n",
    "                                address\n",
    "                                ) VALUES (%s,%s,%s,%s,%s,%s,%s,%s,%s)\"\"\"\n",
    "\n",
    "# Execute the query\n",
    "cursor.execute(sql, (incident_num,\n",
    "                     address_number_primary,\n",
    "                     address_dir_primary,\n",
    "                     address_road_primary,\n",
    "                     address_sfx_primary,\n",
    "                     address_dir_intersecting,\n",
    "                     address_road_intersecting,\n",
    "                     address_sfx_intersecting,\n",
    "                     address\n",
    "                    )\n",
    "              )\n",
    "cnx.commit()"
   ]
  },
  {
   "cell_type": "markdown",
   "id": "26bd4502",
   "metadata": {},
   "source": [
    "### Lat and Long"
   ]
  },
  {
   "cell_type": "code",
   "execution_count": 21,
   "id": "865723d8",
   "metadata": {},
   "outputs": [],
   "source": [
    "#Connect to DB\n",
    "engine = create_engine(f\"mysql://{user}:{password}@{host}/{database}\")\n",
    "connection = engine.connect()"
   ]
  },
  {
   "cell_type": "code",
   "execution_count": 31,
   "id": "25df97d2",
   "metadata": {},
   "outputs": [],
   "source": [
    "import time"
   ]
  },
  {
   "cell_type": "code",
   "execution_count": 37,
   "id": "76d60e2b",
   "metadata": {},
   "outputs": [
    {
     "name": "stdout",
     "output_type": "stream",
     "text": [
      "The query took 0.005410671234130859 seconds to execute\n"
     ]
    }
   ],
   "source": [
    "start_time = time.time()\n",
    "result = connection.execute(\n",
    "    \"\"\"\n",
    "    SELECT incident_num,address from Address\n",
    "    limit 100\n",
    "\n",
    "    \"\"\")\n",
    "column_names = result.keys()\n",
    "rows = result.fetchall()\n",
    "result_df = pd.DataFrame(rows, columns=column_names)\n",
    "Address_Book = result_df\n",
    "Address_Book\n",
    "end_time = time.time()\n",
    "query_time_improved = end_time - start_time\n",
    "print(\"The query took %s seconds to execute\" % query_time_improved)"
   ]
  },
  {
   "cell_type": "code",
   "execution_count": 36,
   "id": "86445a23",
   "metadata": {},
   "outputs": [
    {
     "data": {
      "text/plain": [
       "0.0191647784273244"
      ]
     },
     "execution_count": 36,
     "metadata": {},
     "output_type": "execute_result"
    }
   ],
   "source": [
    "query_time_improved / query_time"
   ]
  },
  {
   "cell_type": "code",
   "execution_count": 101,
   "id": "88dd051f",
   "metadata": {},
   "outputs": [],
   "source": [
    "def Lat_Long(address):\n",
    "    lat, lng  = None, None\n",
    "    api_key = GOOGLE_API_KEY\n",
    "    base_url = \"https://maps.googleapis.com/maps/api/geocode/json\"\n",
    "    endpoint = f\"{base_url}?address={address}&key={api_key}\"\n",
    "    r = requests.get(endpoint)\n",
    "    if r.status_code not in range(200, 299):\n",
    "        #error\n",
    "        return None, None\n",
    "    try:\n",
    "        #found\n",
    "        results = r.json()['results'][0]\n",
    "        lat = results['geometry']['location']['lat']\n",
    "        lng = results['geometry']['location']['lng']\n",
    "        \n",
    "    except:\n",
    "        pass\n",
    "    return lat, lng\n",
    "\n",
    "def DF_GeoCode(row):\n",
    "    column_name = 'address'\n",
    "    address_value = row[column_name]\n",
    "    address_lat, address_lng = Lat_Long(address_value)\n",
    "    row['lat'] = address_lat\n",
    "    row['lng'] = address_lng\n",
    "    \n",
    "    return row"
   ]
  },
  {
   "cell_type": "code",
   "execution_count": 102,
   "id": "cc3536b3",
   "metadata": {},
   "outputs": [
    {
     "data": {
      "text/html": [
       "<div>\n",
       "<style scoped>\n",
       "    .dataframe tbody tr th:only-of-type {\n",
       "        vertical-align: middle;\n",
       "    }\n",
       "\n",
       "    .dataframe tbody tr th {\n",
       "        vertical-align: top;\n",
       "    }\n",
       "\n",
       "    .dataframe thead th {\n",
       "        text-align: right;\n",
       "    }\n",
       "</style>\n",
       "<table border=\"1\" class=\"dataframe\">\n",
       "  <thead>\n",
       "    <tr style=\"text-align: right;\">\n",
       "      <th></th>\n",
       "      <th>incident_num</th>\n",
       "      <th>address</th>\n",
       "      <th>lat</th>\n",
       "      <th>lng</th>\n",
       "    </tr>\n",
       "  </thead>\n",
       "  <tbody>\n",
       "    <tr>\n",
       "      <th>0</th>\n",
       "      <td>E20010000001</td>\n",
       "      <td>400 06TH AVE San Diego CA</td>\n",
       "      <td>32.709558</td>\n",
       "      <td>-117.159488</td>\n",
       "    </tr>\n",
       "    <tr>\n",
       "      <th>1</th>\n",
       "      <td>E20010000002</td>\n",
       "      <td>5000 UNIVERSITY AVE San Diego CA</td>\n",
       "      <td>32.749684</td>\n",
       "      <td>-117.086831</td>\n",
       "    </tr>\n",
       "    <tr>\n",
       "      <th>2</th>\n",
       "      <td>E20010000003</td>\n",
       "      <td>800 SAWTELLE AVE San Diego CA</td>\n",
       "      <td>32.713182</td>\n",
       "      <td>-117.027953</td>\n",
       "    </tr>\n",
       "    <tr>\n",
       "      <th>3</th>\n",
       "      <td>E20010000004</td>\n",
       "      <td>5000 UNIVERSITY AVE San Diego CA</td>\n",
       "      <td>32.749684</td>\n",
       "      <td>-117.086831</td>\n",
       "    </tr>\n",
       "    <tr>\n",
       "      <th>4</th>\n",
       "      <td>E20010000005</td>\n",
       "      <td>5200 CLAIREMONT MESA BLV San Diego CA</td>\n",
       "      <td>32.834461</td>\n",
       "      <td>-117.178710</td>\n",
       "    </tr>\n",
       "    <tr>\n",
       "      <th>...</th>\n",
       "      <td>...</td>\n",
       "      <td>...</td>\n",
       "      <td>...</td>\n",
       "      <td>...</td>\n",
       "    </tr>\n",
       "    <tr>\n",
       "      <th>95</th>\n",
       "      <td>E20010000101</td>\n",
       "      <td>2800 A ST San Diego CA</td>\n",
       "      <td>32.718980</td>\n",
       "      <td>-117.133865</td>\n",
       "    </tr>\n",
       "    <tr>\n",
       "      <th>96</th>\n",
       "      <td>E20010000102</td>\n",
       "      <td>3500 AERO CT San Diego CA</td>\n",
       "      <td>32.807117</td>\n",
       "      <td>-117.148494</td>\n",
       "    </tr>\n",
       "    <tr>\n",
       "      <th>97</th>\n",
       "      <td>E20010000104</td>\n",
       "      <td>CLAIREMONT DR San Diego CA</td>\n",
       "      <td>32.811799</td>\n",
       "      <td>-117.200921</td>\n",
       "    </tr>\n",
       "    <tr>\n",
       "      <th>98</th>\n",
       "      <td>E20010000105</td>\n",
       "      <td>INFO LOG San Diego CA</td>\n",
       "      <td>32.715738</td>\n",
       "      <td>-117.161084</td>\n",
       "    </tr>\n",
       "    <tr>\n",
       "      <th>99</th>\n",
       "      <td>E20010000106</td>\n",
       "      <td>4100 MANZANITA DR San Diego CA</td>\n",
       "      <td>32.734972</td>\n",
       "      <td>-117.106891</td>\n",
       "    </tr>\n",
       "  </tbody>\n",
       "</table>\n",
       "<p>100 rows × 4 columns</p>\n",
       "</div>"
      ],
      "text/plain": [
       "    incident_num                                address        lat         lng\n",
       "0   E20010000001              400 06TH AVE San Diego CA  32.709558 -117.159488\n",
       "1   E20010000002       5000 UNIVERSITY AVE San Diego CA  32.749684 -117.086831\n",
       "2   E20010000003          800 SAWTELLE AVE San Diego CA  32.713182 -117.027953\n",
       "3   E20010000004       5000 UNIVERSITY AVE San Diego CA  32.749684 -117.086831\n",
       "4   E20010000005  5200 CLAIREMONT MESA BLV San Diego CA  32.834461 -117.178710\n",
       "..           ...                                    ...        ...         ...\n",
       "95  E20010000101                 2800 A ST San Diego CA  32.718980 -117.133865\n",
       "96  E20010000102              3500 AERO CT San Diego CA  32.807117 -117.148494\n",
       "97  E20010000104             CLAIREMONT DR San Diego CA  32.811799 -117.200921\n",
       "98  E20010000105                  INFO LOG San Diego CA  32.715738 -117.161084\n",
       "99  E20010000106         4100 MANZANITA DR San Diego CA  32.734972 -117.106891\n",
       "\n",
       "[100 rows x 4 columns]"
      ]
     },
     "execution_count": 102,
     "metadata": {},
     "output_type": "execute_result"
    }
   ],
   "source": [
    "Address_Book = Address_Book.apply(DF_GeoCode, axis=1)\n",
    "Address_Book"
   ]
  },
  {
   "cell_type": "code",
   "execution_count": 103,
   "id": "cab8a0e1",
   "metadata": {},
   "outputs": [],
   "source": [
    "#Lat and Long\n",
    "def Load_LL(row,cursor,table):\n",
    "    # Create a new record\n",
    "    sql = f\"\"\"INSERT INTO {table} ( incident_num,\n",
    "                                    lat,\n",
    "                                    lng\n",
    "                                    ) VALUES (%s,%s,%s)\"\"\"\n",
    "\n",
    "    # Execute the query\n",
    "    cursor.execute(sql, (row['incident_num'],\n",
    "                         row['lat'],\n",
    "                         row['lng']\n",
    "                        )\n",
    "                  )\n",
    "    cnx.commit() "
   ]
  },
  {
   "cell_type": "code",
   "execution_count": 104,
   "id": "347fb791",
   "metadata": {},
   "outputs": [
    {
     "name": "stderr",
     "output_type": "stream",
     "text": [
      "100%|███████████████████████████████████████| 100/100 [00:00<00:00, 1491.81it/s]\n"
     ]
    }
   ],
   "source": [
    "for row in tqdm(Address_Book.to_dict('records')):\n",
    "    Data_Found = Find_Data(row,\n",
    "                           cursor,\n",
    "                           'GeoLocations',\n",
    "                           'incident_num')\n",
    "\n",
    "    if Data_Found is None:\n",
    "        #If no data found load \n",
    "        Load_LL(row,\n",
    "                  cursor,\n",
    "                  'GeoLocations')\n",
    "    else:\n",
    "        pass"
   ]
  },
  {
   "cell_type": "markdown",
   "id": "263f8b31",
   "metadata": {},
   "source": [
    "### ZipCode"
   ]
  },
  {
   "cell_type": "code",
   "execution_count": null,
   "id": "ffd73d8e",
   "metadata": {},
   "outputs": [],
   "source": [
    "from geopy.extra.rate_limiter import RateLimiter\n",
    "from geopy.geocoders import Nominatim"
   ]
  },
  {
   "cell_type": "code",
   "execution_count": null,
   "id": "0c3e158a",
   "metadata": {},
   "outputs": [],
   "source": [
    "result = connection.execute(\n",
    "    \"\"\"\n",
    "    SELECT incident_num,lat,lng from GeoLocations\n",
    "\n",
    "    \"\"\")\n",
    "column_names = result.keys()\n",
    "rows = result.fetchall()\n",
    "ZipCode_Book = pd.DataFrame(rows, columns=column_names)\n",
    "ZipCode_Book = ZipCode_Book.head(100)\n",
    "ZipCode_Book\n",
    "\n"
   ]
  },
  {
   "cell_type": "code",
   "execution_count": 121,
   "id": "f416077c",
   "metadata": {},
   "outputs": [],
   "source": [
    "def get_zipcode(df, geolocator, lat_field, lon_field):\n",
    "    try:\n",
    "        location = geolocator.reverse((df[lat_field], df[lon_field]))\n",
    "        result = location.raw['address']['postcode']\n",
    "    except:\n",
    "        result = None\n",
    "    return result\n"
   ]
  },
  {
   "cell_type": "code",
   "execution_count": 124,
   "id": "cc7d2b28",
   "metadata": {},
   "outputs": [],
   "source": [
    "geolocator = Nominatim(user_agent = user_agent_name)\n",
    "zipcodes = ZipCode_Book.apply(get_zipcode,\n",
    "                            axis=1,\n",
    "                            geolocator=geolocator,\n",
    "                            lat_field='lat',\n",
    "                            lon_field='lng'\n",
    "                           )"
   ]
  },
  {
   "cell_type": "code",
   "execution_count": 128,
   "id": "85b57fd6",
   "metadata": {},
   "outputs": [
    {
     "data": {
      "text/html": [
       "<div>\n",
       "<style scoped>\n",
       "    .dataframe tbody tr th:only-of-type {\n",
       "        vertical-align: middle;\n",
       "    }\n",
       "\n",
       "    .dataframe tbody tr th {\n",
       "        vertical-align: top;\n",
       "    }\n",
       "\n",
       "    .dataframe thead th {\n",
       "        text-align: right;\n",
       "    }\n",
       "</style>\n",
       "<table border=\"1\" class=\"dataframe\">\n",
       "  <thead>\n",
       "    <tr style=\"text-align: right;\">\n",
       "      <th></th>\n",
       "      <th>incident_num</th>\n",
       "      <th>lat</th>\n",
       "      <th>lng</th>\n",
       "      <th>Zipcode</th>\n",
       "    </tr>\n",
       "  </thead>\n",
       "  <tbody>\n",
       "    <tr>\n",
       "      <th>0</th>\n",
       "      <td>E20010000001</td>\n",
       "      <td>32.709558</td>\n",
       "      <td>-117.159488</td>\n",
       "      <td>92101</td>\n",
       "    </tr>\n",
       "    <tr>\n",
       "      <th>1</th>\n",
       "      <td>E20010000002</td>\n",
       "      <td>32.749684</td>\n",
       "      <td>-117.086831</td>\n",
       "      <td>92105</td>\n",
       "    </tr>\n",
       "    <tr>\n",
       "      <th>2</th>\n",
       "      <td>E20010000003</td>\n",
       "      <td>32.713182</td>\n",
       "      <td>-117.027953</td>\n",
       "      <td>92114</td>\n",
       "    </tr>\n",
       "    <tr>\n",
       "      <th>3</th>\n",
       "      <td>E20010000004</td>\n",
       "      <td>32.749684</td>\n",
       "      <td>-117.086831</td>\n",
       "      <td>92105</td>\n",
       "    </tr>\n",
       "    <tr>\n",
       "      <th>4</th>\n",
       "      <td>E20010000005</td>\n",
       "      <td>32.834461</td>\n",
       "      <td>-117.178710</td>\n",
       "      <td>92117</td>\n",
       "    </tr>\n",
       "    <tr>\n",
       "      <th>...</th>\n",
       "      <td>...</td>\n",
       "      <td>...</td>\n",
       "      <td>...</td>\n",
       "      <td>...</td>\n",
       "    </tr>\n",
       "    <tr>\n",
       "      <th>95</th>\n",
       "      <td>E20010000101</td>\n",
       "      <td>32.718980</td>\n",
       "      <td>-117.133865</td>\n",
       "      <td>92102</td>\n",
       "    </tr>\n",
       "    <tr>\n",
       "      <th>96</th>\n",
       "      <td>E20010000102</td>\n",
       "      <td>32.807117</td>\n",
       "      <td>-117.148495</td>\n",
       "      <td>92123</td>\n",
       "    </tr>\n",
       "    <tr>\n",
       "      <th>97</th>\n",
       "      <td>E20010000104</td>\n",
       "      <td>32.811799</td>\n",
       "      <td>-117.200921</td>\n",
       "      <td>92140</td>\n",
       "    </tr>\n",
       "    <tr>\n",
       "      <th>98</th>\n",
       "      <td>E20010000105</td>\n",
       "      <td>32.715738</td>\n",
       "      <td>-117.161084</td>\n",
       "      <td>92101</td>\n",
       "    </tr>\n",
       "    <tr>\n",
       "      <th>99</th>\n",
       "      <td>E20010000106</td>\n",
       "      <td>32.734972</td>\n",
       "      <td>-117.106891</td>\n",
       "      <td>92105</td>\n",
       "    </tr>\n",
       "  </tbody>\n",
       "</table>\n",
       "<p>100 rows × 4 columns</p>\n",
       "</div>"
      ],
      "text/plain": [
       "    incident_num        lat          lng Zipcode\n",
       "0   E20010000001  32.709558  -117.159488   92101\n",
       "1   E20010000002  32.749684  -117.086831   92105\n",
       "2   E20010000003  32.713182  -117.027953   92114\n",
       "3   E20010000004  32.749684  -117.086831   92105\n",
       "4   E20010000005  32.834461  -117.178710   92117\n",
       "..           ...        ...          ...     ...\n",
       "95  E20010000101  32.718980  -117.133865   92102\n",
       "96  E20010000102  32.807117  -117.148495   92123\n",
       "97  E20010000104  32.811799  -117.200921   92140\n",
       "98  E20010000105  32.715738  -117.161084   92101\n",
       "99  E20010000106  32.734972  -117.106891   92105\n",
       "\n",
       "[100 rows x 4 columns]"
      ]
     },
     "execution_count": 128,
     "metadata": {},
     "output_type": "execute_result"
    }
   ],
   "source": [
    "ZipCode_Book['Zipcode'] = zipcodes\n",
    "ZipCode_Book"
   ]
  },
  {
   "cell_type": "code",
   "execution_count": 129,
   "id": "8cff5b31",
   "metadata": {},
   "outputs": [],
   "source": [
    "#Lat and Long\n",
    "def Load_Zipcode(row,cursor,table):\n",
    "    # Create a new record\n",
    "    sql = f\"\"\"INSERT INTO {table} ( incident_num,\n",
    "                                    Zipcode\n",
    "                                    ) VALUES (%s,%s)\"\"\"\n",
    "\n",
    "    # Execute the query\n",
    "    cursor.execute(sql, (row['incident_num'],\n",
    "                         row['Zipcode']\n",
    "                        )\n",
    "                  )\n",
    "    cnx.commit() "
   ]
  },
  {
   "cell_type": "code",
   "execution_count": 131,
   "id": "dab55ed1",
   "metadata": {},
   "outputs": [
    {
     "name": "stderr",
     "output_type": "stream",
     "text": [
      "100%|███████████████████████████████████████| 100/100 [00:00<00:00, 1333.43it/s]\n"
     ]
    }
   ],
   "source": [
    "for row in tqdm(ZipCode_Book.to_dict('records')):\n",
    "    Data_Found = Find_Data(row,\n",
    "                           cursor,\n",
    "                           'Zipcodes',\n",
    "                           'incident_num')\n",
    "\n",
    "    if Data_Found is None:\n",
    "        #If no data found load \n",
    "        Load_Zipcode(row,\n",
    "                  cursor,\n",
    "                  'Zipcodes')\n",
    "    else:\n",
    "        pass"
   ]
  },
  {
   "cell_type": "code",
   "execution_count": null,
   "id": "06d20eff",
   "metadata": {},
   "outputs": [],
   "source": []
  }
 ],
 "metadata": {
  "kernelspec": {
   "display_name": "Python 3 (ipykernel)",
   "language": "python",
   "name": "python3"
  },
  "language_info": {
   "codemirror_mode": {
    "name": "ipython",
    "version": 3
   },
   "file_extension": ".py",
   "mimetype": "text/x-python",
   "name": "python",
   "nbconvert_exporter": "python",
   "pygments_lexer": "ipython3",
   "version": "3.9.12"
  }
 },
 "nbformat": 4,
 "nbformat_minor": 5
}
