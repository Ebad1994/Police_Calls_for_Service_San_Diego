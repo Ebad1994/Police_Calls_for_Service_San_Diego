{
 "cells": [
  {
   "cell_type": "code",
   "execution_count": 9,
   "id": "9e7a07b3",
   "metadata": {},
   "outputs": [],
   "source": [
    "#Libraries\n",
    "import mysql.connector\n",
    "import pandas as pd\n",
    "from datetime import datetime\n",
    "from tqdm import tqdm\n",
    "\n",
    "#from secrets import dbpassword"
   ]
  },
  {
   "cell_type": "code",
   "execution_count": 10,
   "id": "a70407b8",
   "metadata": {},
   "outputs": [],
   "source": [
    "#Initial Connection\n",
    "cnx = mysql.connector.connect(user='root',\n",
    "                              password='xxxx',\n",
    "                              host='localhost',\n",
    "                              database=\"SDPD\"\n",
    "                              )\n",
    "cursor = cnx.cursor()"
   ]
  },
  {
   "cell_type": "code",
   "execution_count": 11,
   "id": "0dac719c",
   "metadata": {},
   "outputs": [],
   "source": [
    "#function to download yearly data\n",
    "def Get_Data(year):\n",
    "    url = f\"https://seshat.datasd.org/pd/pd_calls_for_service_{year}_datasd.csv\"\n",
    "    df = pd.read_csv(url)\n",
    "    return df"
   ]
  },
  {
   "cell_type": "code",
   "execution_count": 15,
   "id": "705c417a",
   "metadata": {},
   "outputs": [
    {
     "data": {
      "text/html": [
       "<div>\n",
       "<style scoped>\n",
       "    .dataframe tbody tr th:only-of-type {\n",
       "        vertical-align: middle;\n",
       "    }\n",
       "\n",
       "    .dataframe tbody tr th {\n",
       "        vertical-align: top;\n",
       "    }\n",
       "\n",
       "    .dataframe thead th {\n",
       "        text-align: right;\n",
       "    }\n",
       "</style>\n",
       "<table border=\"1\" class=\"dataframe\">\n",
       "  <thead>\n",
       "    <tr style=\"text-align: right;\">\n",
       "      <th></th>\n",
       "      <th>call_type</th>\n",
       "      <th>description</th>\n",
       "    </tr>\n",
       "  </thead>\n",
       "  <tbody>\n",
       "    <tr>\n",
       "      <th>0</th>\n",
       "      <td>1016</td>\n",
       "      <td>PRISONER IN CUSTODY</td>\n",
       "    </tr>\n",
       "    <tr>\n",
       "      <th>1</th>\n",
       "      <td>1016PT</td>\n",
       "      <td>PTU (PRISONER TRANSPORT)</td>\n",
       "    </tr>\n",
       "    <tr>\n",
       "      <th>2</th>\n",
       "      <td>1016QC</td>\n",
       "      <td>SHOPLIFTER/QUICK CITE</td>\n",
       "    </tr>\n",
       "    <tr>\n",
       "      <th>3</th>\n",
       "      <td>1021</td>\n",
       "      <td>PHONE YOUR STATION</td>\n",
       "    </tr>\n",
       "    <tr>\n",
       "      <th>4</th>\n",
       "      <td>1021H</td>\n",
       "      <td>PHONE YOUR HOME</td>\n",
       "    </tr>\n",
       "    <tr>\n",
       "      <th>...</th>\n",
       "      <td>...</td>\n",
       "      <td>...</td>\n",
       "    </tr>\n",
       "    <tr>\n",
       "      <th>284</th>\n",
       "      <td>TLO</td>\n",
       "      <td>TERRORISM LIAISON OFFICER</td>\n",
       "    </tr>\n",
       "    <tr>\n",
       "      <th>285</th>\n",
       "      <td>TP</td>\n",
       "      <td>TRAFFIC PURSUIT</td>\n",
       "    </tr>\n",
       "    <tr>\n",
       "      <th>286</th>\n",
       "      <td>TRO</td>\n",
       "      <td>TRO VIOLATION, REPORT</td>\n",
       "    </tr>\n",
       "    <tr>\n",
       "      <th>287</th>\n",
       "      <td>VARDA</td>\n",
       "      <td>VARDA ALARM</td>\n",
       "    </tr>\n",
       "    <tr>\n",
       "      <th>288</th>\n",
       "      <td>WARRANT</td>\n",
       "      <td>WARRANT</td>\n",
       "    </tr>\n",
       "  </tbody>\n",
       "</table>\n",
       "<p>289 rows × 2 columns</p>\n",
       "</div>"
      ],
      "text/plain": [
       "    call_type                description\n",
       "0        1016        PRISONER IN CUSTODY\n",
       "1      1016PT   PTU (PRISONER TRANSPORT)\n",
       "2      1016QC      SHOPLIFTER/QUICK CITE\n",
       "3        1021         PHONE YOUR STATION\n",
       "4       1021H            PHONE YOUR HOME\n",
       "..        ...                        ...\n",
       "284       TLO  TERRORISM LIAISON OFFICER\n",
       "285        TP            TRAFFIC PURSUIT\n",
       "286       TRO      TRO VIOLATION, REPORT\n",
       "287     VARDA                VARDA ALARM\n",
       "288   WARRANT                    WARRANT\n",
       "\n",
       "[289 rows x 2 columns]"
      ]
     },
     "execution_count": 15,
     "metadata": {},
     "output_type": "execute_result"
    }
   ],
   "source": [
    "url = f\"http://seshat.datasd.org/pd/pd_cfs_calltypes_datasd.csv\"\n",
    "call_type = pd.read_csv(url).dropna(axis=1)\n",
    "call_type"
   ]
  },
  {
   "cell_type": "code",
   "execution_count": 16,
   "id": "2900abb2",
   "metadata": {},
   "outputs": [
    {
     "data": {
      "text/html": [
       "<div>\n",
       "<style scoped>\n",
       "    .dataframe tbody tr th:only-of-type {\n",
       "        vertical-align: middle;\n",
       "    }\n",
       "\n",
       "    .dataframe tbody tr th {\n",
       "        vertical-align: top;\n",
       "    }\n",
       "\n",
       "    .dataframe thead th {\n",
       "        text-align: right;\n",
       "    }\n",
       "</style>\n",
       "<table border=\"1\" class=\"dataframe\">\n",
       "  <thead>\n",
       "    <tr style=\"text-align: right;\">\n",
       "      <th></th>\n",
       "      <th>dispo_code</th>\n",
       "      <th>description</th>\n",
       "    </tr>\n",
       "  </thead>\n",
       "  <tbody>\n",
       "    <tr>\n",
       "      <th>0</th>\n",
       "      <td>X</td>\n",
       "      <td>DISPATCHED ALARM CALL CANCELLED BEFORE UNIT ON...</td>\n",
       "    </tr>\n",
       "    <tr>\n",
       "      <th>1</th>\n",
       "      <td>A</td>\n",
       "      <td>ARREST MADE</td>\n",
       "    </tr>\n",
       "    <tr>\n",
       "      <th>2</th>\n",
       "      <td>AB</td>\n",
       "      <td>ARREST MADE, BOARD AND SECURE</td>\n",
       "    </tr>\n",
       "    <tr>\n",
       "      <th>3</th>\n",
       "      <td>AHR</td>\n",
       "      <td>ARREST MADE, HIGH RISK (CRISIS RESPONSE TEAM)</td>\n",
       "    </tr>\n",
       "    <tr>\n",
       "      <th>4</th>\n",
       "      <td>R</td>\n",
       "      <td>REPORT</td>\n",
       "    </tr>\n",
       "    <tr>\n",
       "      <th>5</th>\n",
       "      <td>RB</td>\n",
       "      <td>REPORT TAKEN, BOARD AND SECURE</td>\n",
       "    </tr>\n",
       "    <tr>\n",
       "      <th>6</th>\n",
       "      <td>RHR</td>\n",
       "      <td>REPORT, HIGH RISK (CRISIS RESPONSE TEAM)</td>\n",
       "    </tr>\n",
       "    <tr>\n",
       "      <th>7</th>\n",
       "      <td>S</td>\n",
       "      <td>STOLEN VEHICLE OR RECOVERED VEHICLE</td>\n",
       "    </tr>\n",
       "    <tr>\n",
       "      <th>8</th>\n",
       "      <td>O</td>\n",
       "      <td>OTHER</td>\n",
       "    </tr>\n",
       "    <tr>\n",
       "      <th>9</th>\n",
       "      <td>OHR</td>\n",
       "      <td>OTHER, HIGH RISK (CRISIS RESPONSE TEAM)</td>\n",
       "    </tr>\n",
       "    <tr>\n",
       "      <th>10</th>\n",
       "      <td>K</td>\n",
       "      <td>NO REPORT REQUIRED</td>\n",
       "    </tr>\n",
       "    <tr>\n",
       "      <th>11</th>\n",
       "      <td>KB</td>\n",
       "      <td>NO REPORT REQUIRED, BOARD AND SECURE</td>\n",
       "    </tr>\n",
       "    <tr>\n",
       "      <th>12</th>\n",
       "      <td>KHR</td>\n",
       "      <td>NO FURTHER ACTION, HIGH RISK (CRISIS RESPONSE ...</td>\n",
       "    </tr>\n",
       "    <tr>\n",
       "      <th>13</th>\n",
       "      <td>U</td>\n",
       "      <td>UNFOUNDED</td>\n",
       "    </tr>\n",
       "    <tr>\n",
       "      <th>14</th>\n",
       "      <td>W</td>\n",
       "      <td>NO DISPATCH OR INCIDENT CANCLLED PRIOR TO DISP...</td>\n",
       "    </tr>\n",
       "    <tr>\n",
       "      <th>15</th>\n",
       "      <td>CAN</td>\n",
       "      <td>CANCEL</td>\n",
       "    </tr>\n",
       "    <tr>\n",
       "      <th>16</th>\n",
       "      <td>DUP</td>\n",
       "      <td>DUPLICATE CALL, XREF'D</td>\n",
       "    </tr>\n",
       "    <tr>\n",
       "      <th>17</th>\n",
       "      <td>V</td>\n",
       "      <td>DUPLICATE CALL</td>\n",
       "    </tr>\n",
       "    <tr>\n",
       "      <th>18</th>\n",
       "      <td>DEF</td>\n",
       "      <td>DEF</td>\n",
       "    </tr>\n",
       "  </tbody>\n",
       "</table>\n",
       "</div>"
      ],
      "text/plain": [
       "   dispo_code                                        description\n",
       "0           X  DISPATCHED ALARM CALL CANCELLED BEFORE UNIT ON...\n",
       "1           A                                        ARREST MADE\n",
       "2          AB                      ARREST MADE, BOARD AND SECURE\n",
       "3         AHR      ARREST MADE, HIGH RISK (CRISIS RESPONSE TEAM)\n",
       "4           R                                             REPORT\n",
       "5          RB                     REPORT TAKEN, BOARD AND SECURE\n",
       "6         RHR           REPORT, HIGH RISK (CRISIS RESPONSE TEAM)\n",
       "7           S                STOLEN VEHICLE OR RECOVERED VEHICLE\n",
       "8           O                                              OTHER\n",
       "9         OHR            OTHER, HIGH RISK (CRISIS RESPONSE TEAM)\n",
       "10          K                                 NO REPORT REQUIRED\n",
       "11         KB               NO REPORT REQUIRED, BOARD AND SECURE\n",
       "12        KHR  NO FURTHER ACTION, HIGH RISK (CRISIS RESPONSE ...\n",
       "13          U                                          UNFOUNDED\n",
       "14          W  NO DISPATCH OR INCIDENT CANCLLED PRIOR TO DISP...\n",
       "15        CAN                                             CANCEL\n",
       "16        DUP                             DUPLICATE CALL, XREF'D\n",
       "17          V                                     DUPLICATE CALL\n",
       "18        DEF                                                DEF"
      ]
     },
     "execution_count": 16,
     "metadata": {},
     "output_type": "execute_result"
    }
   ],
   "source": [
    "url = f\"http://seshat.datasd.org/pd/pd_dispo_codes_datasd.csv\"\n",
    "disposition = pd.read_csv(url).dropna(axis=1)\n",
    "disposition.loc[len(disposition.index)] = ['DEF', 'DEF'] \n",
    "disposition\n",
    "disposition"
   ]
  },
  {
   "cell_type": "code",
   "execution_count": 17,
   "id": "bdd2d895",
   "metadata": {},
   "outputs": [
    {
     "data": {
      "text/html": [
       "<div>\n",
       "<style scoped>\n",
       "    .dataframe tbody tr th:only-of-type {\n",
       "        vertical-align: middle;\n",
       "    }\n",
       "\n",
       "    .dataframe tbody tr th {\n",
       "        vertical-align: top;\n",
       "    }\n",
       "\n",
       "    .dataframe thead th {\n",
       "        text-align: right;\n",
       "    }\n",
       "</style>\n",
       "<table border=\"1\" class=\"dataframe\">\n",
       "  <thead>\n",
       "    <tr style=\"text-align: right;\">\n",
       "      <th></th>\n",
       "      <th>beat</th>\n",
       "      <th>neighborhood</th>\n",
       "    </tr>\n",
       "  </thead>\n",
       "  <tbody>\n",
       "    <tr>\n",
       "      <th>0</th>\n",
       "      <td>111</td>\n",
       "      <td>Clairemont Mesa East</td>\n",
       "    </tr>\n",
       "    <tr>\n",
       "      <th>1</th>\n",
       "      <td>112</td>\n",
       "      <td>Clairemont Mesa West</td>\n",
       "    </tr>\n",
       "    <tr>\n",
       "      <th>2</th>\n",
       "      <td>113</td>\n",
       "      <td>Bay Ho</td>\n",
       "    </tr>\n",
       "    <tr>\n",
       "      <th>3</th>\n",
       "      <td>114</td>\n",
       "      <td>North Clairemont</td>\n",
       "    </tr>\n",
       "    <tr>\n",
       "      <th>4</th>\n",
       "      <td>115</td>\n",
       "      <td>University City</td>\n",
       "    </tr>\n",
       "    <tr>\n",
       "      <th>...</th>\n",
       "      <td>...</td>\n",
       "      <td>...</td>\n",
       "    </tr>\n",
       "    <tr>\n",
       "      <th>121</th>\n",
       "      <td>934</td>\n",
       "      <td>Carmel Valley</td>\n",
       "    </tr>\n",
       "    <tr>\n",
       "      <th>122</th>\n",
       "      <td>935</td>\n",
       "      <td>North City</td>\n",
       "    </tr>\n",
       "    <tr>\n",
       "      <th>123</th>\n",
       "      <td>936</td>\n",
       "      <td>Torrey Highlands</td>\n",
       "    </tr>\n",
       "    <tr>\n",
       "      <th>124</th>\n",
       "      <td>937</td>\n",
       "      <td>Black Mountain Ranch</td>\n",
       "    </tr>\n",
       "    <tr>\n",
       "      <th>125</th>\n",
       "      <td>-1</td>\n",
       "      <td>No Beat</td>\n",
       "    </tr>\n",
       "  </tbody>\n",
       "</table>\n",
       "<p>126 rows × 2 columns</p>\n",
       "</div>"
      ],
      "text/plain": [
       "    beat          neighborhood\n",
       "0    111  Clairemont Mesa East\n",
       "1    112  Clairemont Mesa West\n",
       "2    113                Bay Ho\n",
       "3    114      North Clairemont\n",
       "4    115       University City\n",
       "..   ...                   ...\n",
       "121  934         Carmel Valley\n",
       "122  935            North City\n",
       "123  936      Torrey Highlands\n",
       "124  937  Black Mountain Ranch\n",
       "125   -1               No Beat\n",
       "\n",
       "[126 rows x 2 columns]"
      ]
     },
     "execution_count": 17,
     "metadata": {},
     "output_type": "execute_result"
    }
   ],
   "source": [
    "beat = pd.read_csv('beat-neighborhood.csv').dropna(axis=1)\n",
    "beat_split = beat['beat,neighborhood'].str.split(pat=\",\",\n",
    "                                                 expand=True)\n",
    "beat_split = beat_split.rename(columns={0: \"beat\",\n",
    "                                        1: \"neighborhood\"})\n",
    "beat_split.loc[len(beat_split.index)] = [-1, 'No Beat'] \n",
    "beat_split"
   ]
  },
  {
   "cell_type": "code",
   "execution_count": 18,
   "id": "dbb5b889",
   "metadata": {},
   "outputs": [
    {
     "data": {
      "text/html": [
       "<div>\n",
       "<style scoped>\n",
       "    .dataframe tbody tr th:only-of-type {\n",
       "        vertical-align: middle;\n",
       "    }\n",
       "\n",
       "    .dataframe tbody tr th {\n",
       "        vertical-align: top;\n",
       "    }\n",
       "\n",
       "    .dataframe thead th {\n",
       "        text-align: right;\n",
       "    }\n",
       "</style>\n",
       "<table border=\"1\" class=\"dataframe\">\n",
       "  <thead>\n",
       "    <tr style=\"text-align: right;\">\n",
       "      <th></th>\n",
       "      <th>day_of_week</th>\n",
       "      <th>day</th>\n",
       "    </tr>\n",
       "  </thead>\n",
       "  <tbody>\n",
       "    <tr>\n",
       "      <th>0</th>\n",
       "      <td>1</td>\n",
       "      <td>Sunday</td>\n",
       "    </tr>\n",
       "    <tr>\n",
       "      <th>1</th>\n",
       "      <td>2</td>\n",
       "      <td>Monday</td>\n",
       "    </tr>\n",
       "    <tr>\n",
       "      <th>2</th>\n",
       "      <td>3</td>\n",
       "      <td>Tuesday</td>\n",
       "    </tr>\n",
       "    <tr>\n",
       "      <th>3</th>\n",
       "      <td>4</td>\n",
       "      <td>Wednesday</td>\n",
       "    </tr>\n",
       "    <tr>\n",
       "      <th>4</th>\n",
       "      <td>5</td>\n",
       "      <td>Thursday</td>\n",
       "    </tr>\n",
       "    <tr>\n",
       "      <th>5</th>\n",
       "      <td>6</td>\n",
       "      <td>Friday</td>\n",
       "    </tr>\n",
       "    <tr>\n",
       "      <th>6</th>\n",
       "      <td>7</td>\n",
       "      <td>Saturday</td>\n",
       "    </tr>\n",
       "  </tbody>\n",
       "</table>\n",
       "</div>"
      ],
      "text/plain": [
       "   day_of_week        day\n",
       "0            1     Sunday\n",
       "1            2     Monday\n",
       "2            3    Tuesday\n",
       "3            4  Wednesday\n",
       "4            5   Thursday\n",
       "5            6     Friday\n",
       "6            7   Saturday"
      ]
     },
     "execution_count": 18,
     "metadata": {},
     "output_type": "execute_result"
    }
   ],
   "source": [
    "# Create dataframe\n",
    "days = pd.DataFrame({\n",
    "    'day_of_week':list(range(1,8)),\n",
    "    'day':['Sunday','Monday','Tuesday','Wednesday','Thursday','Friday','Saturday'],\n",
    "})\n",
    "days"
   ]
  },
  {
   "cell_type": "code",
   "execution_count": 21,
   "id": "9b1bcad8",
   "metadata": {},
   "outputs": [],
   "source": [
    "# df to dict\n",
    "call_type_dict = call_type.to_dict('records')\n",
    "disposition_dict = disposition.to_dict('records')\n",
    "beat_dict = beat_split.to_dict('records')\n",
    "days_dict = days.to_dict('records')"
   ]
  },
  {
   "cell_type": "code",
   "execution_count": 22,
   "id": "d82b7f44",
   "metadata": {},
   "outputs": [],
   "source": [
    "def Find_Data(row,cursor,table, key):\n",
    "    try:\n",
    "        #print(f\"SELECT * from {table} where {key} = '{row[key]}'\")\n",
    "        cursor.execute(f\"SELECT * from {table} where {key} = '{row[key]}'\")\n",
    "        # Fetch a record\n",
    "        result = cursor.fetchone()\n",
    "    except:\n",
    "        result = 0\n",
    "    \n",
    "    return result"
   ]
  },
  {
   "cell_type": "code",
   "execution_count": 25,
   "id": "8f28ec1d",
   "metadata": {},
   "outputs": [],
   "source": [
    "#Call Type\n",
    "def Load_Call_Type(row,cursor,table):\n",
    "    # Create a new record\n",
    "    sql = f\"\"\"INSERT INTO {table} (call_type,\n",
    "                                    description\n",
    "                                    ) VALUES (%s, %s)\"\"\"\n",
    "\n",
    "    # Execute the query\n",
    "    cursor.execute(sql, (row['call_type'],row['description']))\n",
    "    cnx.commit()  "
   ]
  },
  {
   "cell_type": "code",
   "execution_count": 26,
   "id": "dd6cccf1",
   "metadata": {},
   "outputs": [],
   "source": [
    "#Disposition\n",
    "def Load_Dispo(row,cursor,table):\n",
    "    # Create a new record\n",
    "    sql = f\"\"\"INSERT INTO {table} (dispo_code,\n",
    "                                    description\n",
    "                                    ) VALUES (%s, %s)\"\"\"\n",
    "\n",
    "    # Execute the query\n",
    "    cursor.execute(sql, (row['dispo_code'],row['description']))\n",
    "    cnx.commit()  "
   ]
  },
  {
   "cell_type": "code",
   "execution_count": 27,
   "id": "a7ff02af",
   "metadata": {},
   "outputs": [],
   "source": [
    "#beat\n",
    "def Load_Beat(row,cursor,table):\n",
    "    # Create a new record\n",
    "    sql = f\"\"\"INSERT INTO {table} (beat,\n",
    "                                    neighborhood\n",
    "                                    ) VALUES (%s, %s)\"\"\"\n",
    "\n",
    "    # Execute the query\n",
    "    cursor.execute(sql, (row['beat'],row['neighborhood']))\n",
    "    cnx.commit()  "
   ]
  },
  {
   "cell_type": "code",
   "execution_count": 28,
   "id": "cb4964ec",
   "metadata": {},
   "outputs": [],
   "source": [
    "#Load Data\n",
    "def Load_Data(row,cursor,table,Col1,Col2):\n",
    "    # Create a new record\n",
    "    sql = f\"\"\"INSERT INTO {table} ({Col1},\n",
    "                                    {Col2}\n",
    "                                    ) VALUES (%s, %s)\"\"\"\n",
    "\n",
    "    # Execute the query\n",
    "    cursor.execute(sql, (row[Col1],row[Col2]))\n",
    "    cnx.commit()  "
   ]
  },
  {
   "cell_type": "code",
   "execution_count": 29,
   "id": "836ac159",
   "metadata": {},
   "outputs": [
    {
     "name": "stderr",
     "output_type": "stream",
     "text": [
      "100%|███████████████████████████████████████| 289/289 [00:00<00:00, 1682.08it/s]\n"
     ]
    }
   ],
   "source": [
    "for row in tqdm(call_type_dict):\n",
    "    #Verify if Data is in table\n",
    "    Data_Found = Find_Data(row,cursor,'Call_types','call_type')\n",
    "    if Data_Found is None:\n",
    "        #If no data found load \n",
    "        Load_Call_Type(row,cursor,'Call_types')\n",
    "    else:\n",
    "        pass"
   ]
  },
  {
   "cell_type": "code",
   "execution_count": 30,
   "id": "5e39d804",
   "metadata": {},
   "outputs": [
    {
     "name": "stderr",
     "output_type": "stream",
     "text": [
      "100%|██████████████████████████████████████████| 19/19 [00:00<00:00, 586.94it/s]\n"
     ]
    }
   ],
   "source": [
    "for row in tqdm(disposition_dict):\n",
    "    #Verify if Data is in table\n",
    "    Data_Found = Find_Data(row,cursor,'Dispositions','dispo_code')\n",
    "    if Data_Found is None:\n",
    "        #If no data found load \n",
    "        Load_Dispo(row,cursor,'Dispositions')\n",
    "    else:\n",
    "        pass"
   ]
  },
  {
   "cell_type": "code",
   "execution_count": 31,
   "id": "a414b377",
   "metadata": {},
   "outputs": [
    {
     "name": "stderr",
     "output_type": "stream",
     "text": [
      "100%|███████████████████████████████████████| 126/126 [00:00<00:00, 1353.28it/s]\n"
     ]
    }
   ],
   "source": [
    "for row in tqdm(beat_dict):\n",
    "    #Verify if Data is in table\n",
    "    Data_Found = Find_Data(row,cursor,'Beats','beat')\n",
    "    if Data_Found is None:\n",
    "        #If no data found load \n",
    "        Load_Beat(row,cursor,'Beats')\n",
    "    else:\n",
    "        pass"
   ]
  },
  {
   "cell_type": "code",
   "execution_count": null,
   "id": "a751b93e",
   "metadata": {},
   "outputs": [],
   "source": [
    "for row in tqdm(days_dict):\n",
    "    Table = 'Days'\n",
    "    Key = 'day_of_week'\n",
    "    Col2 = 'day'\n",
    "    #Verify if Data is in table\n",
    "    Data_Found = Find_Data(row,cursor,Table,Key)\n",
    "    if Data_Found is None:\n",
    "        #If no data found load \n",
    "        Load_Data(row,cursor,Table,Key,Col2)\n",
    "    else:\n",
    "        pass"
   ]
  },
  {
   "cell_type": "code",
   "execution_count": 32,
   "id": "11bbadd4",
   "metadata": {},
   "outputs": [],
   "source": [
    "#Calls\n",
    "def Load_Calls(row,cursor,table,year):\n",
    "    # Create a new record\n",
    "    sql = f\"\"\"INSERT INTO {table} ( incident_num,\n",
    "                                    incident_date_time,\n",
    "                                    day_of_week,\n",
    "                                    call_type,\n",
    "                                    dispo_code,\n",
    "                                    beat,\n",
    "                                    priority,\n",
    "                                    incident_year\n",
    "                                    ) VALUES (%s,%s,%s,%s,%s,%s,%s,%s)\"\"\"\n",
    "\n",
    "    # Execute the query\n",
    "    cursor.execute(sql, (row['incident_num'],\n",
    "                         row['date_time'],\n",
    "                         row['day_of_week'],\n",
    "                         row['call_type'],\n",
    "                         row['disposition'],\n",
    "                         row['beat'],\n",
    "                         row['priority'],\n",
    "                         year,\n",
    "                        )\n",
    "                  )\n",
    "    cnx.commit()  "
   ]
  },
  {
   "cell_type": "code",
   "execution_count": 33,
   "id": "a97cd708",
   "metadata": {},
   "outputs": [
    {
     "data": {
      "text/plain": [
       "[2022, 2023]"
      ]
     },
     "execution_count": 33,
     "metadata": {},
     "output_type": "execute_result"
    }
   ],
   "source": [
    "Years = list(range(2022,datetime.now().year +1))\n",
    "Years"
   ]
  },
  {
   "cell_type": "code",
   "execution_count": 35,
   "id": "358546ca",
   "metadata": {},
   "outputs": [
    {
     "data": {
      "text/plain": [
       "[2021]"
      ]
     },
     "execution_count": 35,
     "metadata": {},
     "output_type": "execute_result"
    }
   ],
   "source": [
    "Years = [2021]\n",
    "Years"
   ]
  },
  {
   "cell_type": "code",
   "execution_count": 36,
   "id": "0deb2f00",
   "metadata": {},
   "outputs": [
    {
     "name": "stderr",
     "output_type": "stream",
     "text": [
      "  0%|▏                                  | 2342/568947 [00:01<05:32, 1702.46it/s]"
     ]
    },
    {
     "name": "stdout",
     "output_type": "stream",
     "text": [
      "{'incident_num': 'E21010002172', 'date_time': '2021-01-02 12:18:55', 'day_of_week': 7, 'address_number_primary': 1600, 'address_dir_primary': nan, 'address_road_primary': 'PAC', 'address_sfx_primary': 'HWY', 'address_dir_intersecting': nan, 'address_road_intersecting': nan, 'address_sfx_intersecting': nan, 'call_type': 'DEMO', 'disposition': 'K', 'beat': 700, 'priority': 2}\n"
     ]
    },
    {
     "name": "stderr",
     "output_type": "stream",
     "text": [
      "  7%|██▌                               | 41855/568947 [00:24<05:12, 1687.33it/s]"
     ]
    },
    {
     "name": "stdout",
     "output_type": "stream",
     "text": [
      "{'incident_num': 'E21010044301', 'date_time': '2021-01-28 03:58:32', 'day_of_week': 5, 'address_number_primary': 5400, 'address_dir_primary': nan, 'address_road_primary': 'CASINO', 'address_sfx_primary': 'WY', 'address_dir_intersecting': nan, 'address_road_intersecting': nan, 'address_sfx_intersecting': nan, 'call_type': 'FU', 'disposition': 'K', 'beat': 300, 'priority': 2}\n"
     ]
    },
    {
     "name": "stderr",
     "output_type": "stream",
     "text": [
      " 12%|████▏                             | 69570/568947 [00:40<04:57, 1676.60it/s]"
     ]
    },
    {
     "name": "stdout",
     "output_type": "stream",
     "text": [
      "{'incident_num': 'E21020022897', 'date_time': '2021-02-14 13:05:11', 'day_of_week': 1, 'address_number_primary': 0, 'address_dir_primary': nan, 'address_road_primary': 'M 01ST ST W', 'address_sfx_primary': nan, 'address_dir_intersecting': nan, 'address_road_intersecting': 'UNNAMED MILITARY', 'address_sfx_intersecting': nan, 'call_type': 'AU1', 'disposition': 'W', 'beat': 0, 'priority': 1}\n"
     ]
    },
    {
     "name": "stderr",
     "output_type": "stream",
     "text": [
      " 26%|████████▍                        | 145826/568947 [01:25<04:06, 1719.04it/s]"
     ]
    },
    {
     "name": "stdout",
     "output_type": "stream",
     "text": [
      "{'incident_num': 'E21040003371', 'date_time': '2021-04-02 20:44:13', 'day_of_week': 6, 'address_number_primary': 1600, 'address_dir_primary': nan, 'address_road_primary': 'PAC', 'address_sfx_primary': 'HWY', 'address_dir_intersecting': nan, 'address_road_intersecting': nan, 'address_sfx_intersecting': nan, 'call_type': '1150', 'disposition': 'K', 'beat': 700, 'priority': 2}\n"
     ]
    },
    {
     "name": "stderr",
     "output_type": "stream",
     "text": [
      " 34%|███████████▏                     | 193526/568947 [01:52<03:39, 1711.75it/s]"
     ]
    },
    {
     "name": "stdout",
     "output_type": "stream",
     "text": [
      "{'incident_num': 'E21050003116', 'date_time': '2021-05-02 22:05:09', 'day_of_week': 1, 'address_number_primary': 1600, 'address_dir_primary': nan, 'address_road_primary': 'PAC', 'address_sfx_primary': 'HWY', 'address_dir_intersecting': nan, 'address_road_intersecting': nan, 'address_sfx_intersecting': nan, 'call_type': 'CW', 'disposition': 'DUP', 'beat': 700, 'priority': 1}\n"
     ]
    },
    {
     "name": "stderr",
     "output_type": "stream",
     "text": [
      " 46%|███████████████▏                 | 261644/568947 [02:32<03:00, 1706.42it/s]"
     ]
    },
    {
     "name": "stdout",
     "output_type": "stream",
     "text": [
      "{'incident_num': 'E21060021831', 'date_time': '2021-06-13 12:13:27', 'day_of_week': 1, 'address_number_primary': 2800, 'address_dir_primary': nan, 'address_road_primary': 'EMERSON', 'address_sfx_primary': 'ST', 'address_dir_intersecting': nan, 'address_road_intersecting': nan, 'address_sfx_intersecting': nan, 'call_type': '10852R', 'disposition': 'CAN', 'beat': 0, 'priority': 3}\n"
     ]
    },
    {
     "name": "stderr",
     "output_type": "stream",
     "text": [
      " 61%|████████████████████▏            | 347491/568947 [03:22<02:09, 1711.17it/s]"
     ]
    },
    {
     "name": "stdout",
     "output_type": "stream",
     "text": [
      "{'incident_num': 'E21080006741', 'date_time': '2021-08-04 21:29:04', 'day_of_week': 4, 'address_number_primary': 2800, 'address_dir_primary': nan, 'address_road_primary': 'EMERSON', 'address_sfx_primary': 'ST', 'address_dir_intersecting': nan, 'address_road_intersecting': nan, 'address_sfx_intersecting': nan, 'call_type': '10851R', 'disposition': 'W', 'beat': 0, 'priority': 2}\n"
     ]
    },
    {
     "name": "stderr",
     "output_type": "stream",
     "text": [
      " 62%|████████████████████▌            | 353690/568947 [03:26<02:05, 1714.95it/s]"
     ]
    },
    {
     "name": "stdout",
     "output_type": "stream",
     "text": [
      "{'incident_num': 'E21080013325', 'date_time': '2021-08-08 21:06:01', 'day_of_week': 1, 'address_number_primary': 1700, 'address_dir_primary': nan, 'address_road_primary': 'PACIFIC', 'address_sfx_primary': 'HWY', 'address_dir_intersecting': nan, 'address_road_intersecting': nan, 'address_sfx_intersecting': nan, 'call_type': '1131A', 'disposition': 'K', 'beat': 700, 'priority': 1}\n"
     ]
    },
    {
     "name": "stderr",
     "output_type": "stream",
     "text": [
      " 63%|████████████████████▋            | 355930/568947 [03:27<02:04, 1716.51it/s]"
     ]
    },
    {
     "name": "stdout",
     "output_type": "stream",
     "text": [
      "{'incident_num': 'E21080015774', 'date_time': '2021-08-10 11:02:19', 'day_of_week': 3, 'address_number_primary': 5400, 'address_dir_primary': nan, 'address_road_primary': 'CASINO', 'address_sfx_primary': 'WY', 'address_dir_intersecting': nan, 'address_road_intersecting': nan, 'address_sfx_intersecting': nan, 'call_type': 'AU1', 'disposition': 'W', 'beat': 300, 'priority': 1}\n"
     ]
    },
    {
     "name": "stderr",
     "output_type": "stream",
     "text": [
      " 76%|████████████████████████▉        | 429834/568947 [04:10<01:22, 1693.90it/s]"
     ]
    },
    {
     "name": "stdout",
     "output_type": "stream",
     "text": [
      "{'incident_num': 'E21090042734', 'date_time': '2021-09-25 17:47:50', 'day_of_week': 7, 'address_number_primary': 1600, 'address_dir_primary': nan, 'address_road_primary': 'PAC', 'address_sfx_primary': 'HWY', 'address_dir_intersecting': nan, 'address_road_intersecting': nan, 'address_sfx_intersecting': nan, 'call_type': 'FD', 'disposition': 'O', 'beat': 700, 'priority': 2}\n"
     ]
    },
    {
     "name": "stderr",
     "output_type": "stream",
     "text": [
      " 76%|█████████████████████████        | 431027/568947 [04:11<01:21, 1701.86it/s]"
     ]
    },
    {
     "name": "stdout",
     "output_type": "stream",
     "text": [
      "{'incident_num': 'E21090044042', 'date_time': '2021-09-26 12:40:31', 'day_of_week': 1, 'address_number_primary': 1700, 'address_dir_primary': nan, 'address_road_primary': 'PACIFIC', 'address_sfx_primary': 'HWY', 'address_dir_intersecting': nan, 'address_road_intersecting': nan, 'address_sfx_intersecting': nan, 'call_type': 'AU1', 'disposition': 'W', 'beat': 700, 'priority': 1}\n"
     ]
    },
    {
     "name": "stderr",
     "output_type": "stream",
     "text": [
      " 76%|█████████████████████████▏       | 433590/568947 [04:13<01:19, 1700.21it/s]"
     ]
    },
    {
     "name": "stdout",
     "output_type": "stream",
     "text": [
      "{'incident_num': 'E21090046894', 'date_time': '2021-09-28 08:31:33', 'day_of_week': 3, 'address_number_primary': 0, 'address_dir_primary': nan, 'address_road_primary': '01ST', 'address_sfx_primary': 'AVE', 'address_dir_intersecting': nan, 'address_road_intersecting': 'BROADWAY', 'address_sfx_intersecting': nan, 'call_type': '10851R', 'disposition': 'SS-', 'beat': 525, 'priority': 2}\n",
      "{'incident_num': 'E21090047020', 'date_time': '2021-09-28 09:51:03', 'day_of_week': 3, 'address_number_primary': 11200, 'address_dir_primary': nan, 'address_road_primary': 'SPITFIRE', 'address_sfx_primary': 'RD', 'address_dir_intersecting': nan, 'address_road_intersecting': nan, 'address_sfx_intersecting': nan, 'call_type': '10851R', 'disposition': 'SS-', 'beat': 242, 'priority': 2}\n"
     ]
    },
    {
     "name": "stderr",
     "output_type": "stream",
     "text": [
      " 76%|█████████████████████████▏       | 434104/568947 [04:13<01:19, 1705.13it/s]"
     ]
    },
    {
     "name": "stdout",
     "output_type": "stream",
     "text": [
      "{'incident_num': 'E21090047322', 'date_time': '2021-09-28 12:48:25', 'day_of_week': 3, 'address_number_primary': 11200, 'address_dir_primary': nan, 'address_road_primary': 'LEE', 'address_sfx_primary': 'WAY', 'address_dir_intersecting': nan, 'address_road_intersecting': nan, 'address_sfx_intersecting': nan, 'call_type': '10851R', 'disposition': 'SS-', 'beat': 242, 'priority': 2}\n"
     ]
    },
    {
     "name": "stderr",
     "output_type": "stream",
     "text": [
      " 76%|█████████████████████████▏       | 435132/568947 [04:14<01:18, 1706.33it/s]"
     ]
    },
    {
     "name": "stdout",
     "output_type": "stream",
     "text": [
      "{'incident_num': 'E21090048446', 'date_time': '2021-09-29 05:51:21', 'day_of_week': 4, 'address_number_primary': 1200, 'address_dir_primary': nan, 'address_road_primary': '09TH', 'address_sfx_primary': 'AVE', 'address_dir_intersecting': nan, 'address_road_intersecting': nan, 'address_sfx_intersecting': nan, 'call_type': '10851R', 'disposition': 'SS-', 'beat': 524, 'priority': 2}\n",
      "{'incident_num': 'E21090048610', 'date_time': '2021-09-29 07:57:38', 'day_of_week': 4, 'address_number_primary': 2700, 'address_dir_primary': nan, 'address_road_primary': 'TREAT', 'address_sfx_primary': 'ST', 'address_dir_intersecting': nan, 'address_road_intersecting': nan, 'address_sfx_intersecting': nan, 'call_type': '10851R', 'disposition': 'SS-', 'beat': 517, 'priority': 2}\n"
     ]
    },
    {
     "name": "stderr",
     "output_type": "stream",
     "text": [
      " 77%|█████████████████████████▎       | 436679/568947 [04:14<01:17, 1716.07it/s]"
     ]
    },
    {
     "name": "stdout",
     "output_type": "stream",
     "text": [
      "{'incident_num': 'E21090050150', 'date_time': '2021-09-30 06:13:43', 'day_of_week': 5, 'address_number_primary': 2500, 'address_dir_primary': nan, 'address_road_primary': 'OLD QUARRY', 'address_sfx_primary': 'RD', 'address_dir_intersecting': nan, 'address_road_intersecting': nan, 'address_sfx_intersecting': nan, 'call_type': '10851R', 'disposition': 'SS-', 'beat': 315, 'priority': 2}\n"
     ]
    },
    {
     "name": "stderr",
     "output_type": "stream",
     "text": [
      " 77%|█████████████████████████▎       | 437365/568947 [04:15<01:17, 1700.16it/s]"
     ]
    },
    {
     "name": "stdout",
     "output_type": "stream",
     "text": [
      "{'incident_num': 'E21090050808', 'date_time': '2021-09-30 12:58:10', 'day_of_week': 5, 'address_number_primary': 3800, 'address_dir_primary': nan, 'address_road_primary': 'PENDIENTE', 'address_sfx_primary': 'CT', 'address_dir_intersecting': nan, 'address_road_intersecting': nan, 'address_sfx_intersecting': nan, 'call_type': '10851R', 'disposition': 'SS-', 'beat': 312, 'priority': 2}\n"
     ]
    },
    {
     "name": "stderr",
     "output_type": "stream",
     "text": [
      " 78%|█████████████████████████▋       | 443007/568947 [04:18<01:13, 1708.06it/s]"
     ]
    },
    {
     "name": "stdout",
     "output_type": "stream",
     "text": [
      "{'incident_num': 'E21100005344', 'date_time': '2021-10-04 08:32:21', 'day_of_week': 2, 'address_number_primary': 9400, 'address_dir_primary': nan, 'address_road_primary': 'CUSTOMHOUSE', 'address_sfx_primary': 'PLZ', 'address_dir_intersecting': nan, 'address_road_intersecting': nan, 'address_sfx_intersecting': nan, 'call_type': '10851R', 'disposition': 'SS-', 'beat': 713, 'priority': 2}\n"
     ]
    },
    {
     "name": "stderr",
     "output_type": "stream",
     "text": [
      " 78%|█████████████████████████▉       | 446108/568947 [04:20<01:11, 1716.52it/s]"
     ]
    },
    {
     "name": "stdout",
     "output_type": "stream",
     "text": [
      "{'incident_num': 'E21100008682', 'date_time': '2021-10-06 07:03:09', 'day_of_week': 4, 'address_number_primary': 9300, 'address_dir_primary': nan, 'address_road_primary': 'HILLERY', 'address_sfx_primary': 'DR', 'address_dir_intersecting': nan, 'address_road_intersecting': nan, 'address_sfx_intersecting': nan, 'call_type': '10851R', 'disposition': 'SS-', 'beat': 242, 'priority': 2}\n"
     ]
    },
    {
     "name": "stderr",
     "output_type": "stream",
     "text": [
      " 81%|██████████████████████████▋      | 459448/568947 [04:28<01:03, 1717.77it/s]"
     ]
    },
    {
     "name": "stdout",
     "output_type": "stream",
     "text": [
      "{'incident_num': 'E21100022916', 'date_time': '2021-10-14 16:57:45', 'day_of_week': 5, 'address_number_primary': 1600, 'address_dir_primary': nan, 'address_road_primary': 'PAC', 'address_sfx_primary': 'HWY', 'address_dir_intersecting': nan, 'address_road_intersecting': nan, 'address_sfx_intersecting': nan, 'call_type': '10851R', 'disposition': 'R', 'beat': 700, 'priority': 2}\n"
     ]
    },
    {
     "name": "stderr",
     "output_type": "stream",
     "text": [
      " 82%|███████████████████████████      | 466852/568947 [04:32<00:59, 1714.06it/s]"
     ]
    },
    {
     "name": "stdout",
     "output_type": "stream",
     "text": [
      "{'incident_num': 'E21100030681', 'date_time': '2021-10-19 13:03:05', 'day_of_week': 3, 'address_number_primary': 4100, 'address_dir_primary': nan, 'address_road_primary': 'CAMINO DE LA PLAZA', 'address_sfx_primary': nan, 'address_dir_intersecting': nan, 'address_road_intersecting': nan, 'address_sfx_intersecting': nan, 'call_type': '10851R', 'disposition': 'SS-', 'beat': 712, 'priority': 2}\n"
     ]
    },
    {
     "name": "stderr",
     "output_type": "stream",
     "text": [
      " 86%|████████████████████████████▍    | 489949/568947 [04:46<00:46, 1712.57it/s]"
     ]
    },
    {
     "name": "stdout",
     "output_type": "stream",
     "text": [
      "{'incident_num': 'E21110006716', 'date_time': '2021-11-05 07:08:06', 'day_of_week': 6, 'address_number_primary': 400, 'address_dir_primary': nan, 'address_road_primary': 'UNIVERSITY', 'address_sfx_primary': 'PL', 'address_dir_intersecting': nan, 'address_road_intersecting': nan, 'address_sfx_intersecting': nan, 'call_type': '586', 'disposition': 'SS-', 'beat': 627, 'priority': 4}\n"
     ]
    },
    {
     "name": "stderr",
     "output_type": "stream",
     "text": [
      " 86%|████████████████████████████▍    | 491325/568947 [04:47<00:45, 1709.85it/s]"
     ]
    },
    {
     "name": "stdout",
     "output_type": "stream",
     "text": [
      "{'incident_num': 'E21110008154', 'date_time': '2021-11-06 01:00:11', 'day_of_week': 7, 'address_number_primary': 2100, 'address_dir_primary': nan, 'address_road_primary': 'WUESTE', 'address_sfx_primary': 'RD', 'address_dir_intersecting': nan, 'address_road_intersecting': nan, 'address_sfx_intersecting': nan, 'call_type': 'CC', 'disposition': 'W', 'beat': 9, 'priority': 1}\n"
     ]
    },
    {
     "name": "stderr",
     "output_type": "stream",
     "text": [
      " 87%|████████████████████████████▊    | 496136/568947 [04:49<00:42, 1713.21it/s]"
     ]
    },
    {
     "name": "stdout",
     "output_type": "stream",
     "text": [
      "{'incident_num': 'E21110013337', 'date_time': '2021-11-09 09:15:51', 'day_of_week': 3, 'address_number_primary': 10600, 'address_dir_primary': nan, 'address_road_primary': 'WEXFORD', 'address_sfx_primary': 'ST', 'address_dir_intersecting': nan, 'address_road_intersecting': nan, 'address_sfx_intersecting': nan, 'call_type': '10851R', 'disposition': 'SS-', 'beat': 246, 'priority': 2}\n"
     ]
    },
    {
     "name": "stderr",
     "output_type": "stream",
     "text": [
      " 93%|██████████████████████████████▊  | 530954/568947 [05:10<00:22, 1720.35it/s]"
     ]
    },
    {
     "name": "stdout",
     "output_type": "stream",
     "text": [
      "{'incident_num': 'E21120004041', 'date_time': '2021-12-03 14:27:34', 'day_of_week': 6, 'address_number_primary': 8100, 'address_dir_primary': nan, 'address_road_primary': 'ROYAL GORGE', 'address_sfx_primary': 'DR', 'address_dir_intersecting': nan, 'address_road_intersecting': nan, 'address_sfx_intersecting': nan, 'call_type': 'CC', 'disposition': 'SS-', 'beat': 325, 'priority': 3}\n"
     ]
    },
    {
     "name": "stderr",
     "output_type": "stream",
     "text": [
      " 96%|███████████████████████████████▌ | 544208/568947 [05:17<00:14, 1718.05it/s]"
     ]
    },
    {
     "name": "stdout",
     "output_type": "stream",
     "text": [
      "{'incident_num': 'E21120018335', 'date_time': '2021-12-13 00:53:35', 'day_of_week': 2, 'address_number_primary': 1700, 'address_dir_primary': nan, 'address_road_primary': 'PACIFIC', 'address_sfx_primary': 'HWY', 'address_dir_intersecting': nan, 'address_road_intersecting': nan, 'address_sfx_intersecting': nan, 'call_type': '1151', 'disposition': 'O', 'beat': 700, 'priority': 2}\n"
     ]
    },
    {
     "name": "stderr",
     "output_type": "stream",
     "text": [
      " 96%|███████████████████████████████▊ | 548858/568947 [05:20<00:11, 1712.42it/s]"
     ]
    },
    {
     "name": "stdout",
     "output_type": "stream",
     "text": [
      "{'incident_num': 'E21120023320', 'date_time': '2021-12-16 10:58:42', 'day_of_week': 5, 'address_number_primary': 1600, 'address_dir_primary': nan, 'address_road_primary': 'PAC', 'address_sfx_primary': 'HWY', 'address_dir_intersecting': nan, 'address_road_intersecting': nan, 'address_sfx_intersecting': nan, 'call_type': 'FD', 'disposition': 'K', 'beat': 700, 'priority': 2}\n"
     ]
    },
    {
     "name": "stderr",
     "output_type": "stream",
     "text": [
      " 97%|███████████████████████████████▉ | 551606/568947 [05:22<00:10, 1709.49it/s]"
     ]
    },
    {
     "name": "stdout",
     "output_type": "stream",
     "text": [
      "{'incident_num': 'E21120026273', 'date_time': '2021-12-18 09:13:37', 'day_of_week': 7, 'address_number_primary': 0, 'address_dir_primary': nan, 'address_road_primary': nan, 'address_sfx_primary': nan, 'address_dir_intersecting': nan, 'address_road_intersecting': nan, 'address_sfx_intersecting': nan, 'call_type': 'INFO', 'disposition': 'W', 'beat': 0, 'priority': 2}\n"
     ]
    },
    {
     "name": "stderr",
     "output_type": "stream",
     "text": [
      " 98%|████████████████████████████████▏| 555925/568947 [05:24<00:07, 1721.01it/s]"
     ]
    },
    {
     "name": "stdout",
     "output_type": "stream",
     "text": [
      "{'incident_num': 'E21120030811', 'date_time': '2021-12-21 11:00:39', 'day_of_week': 3, 'address_number_primary': 2800, 'address_dir_primary': nan, 'address_road_primary': 'COMMERCIAL', 'address_sfx_primary': 'ST', 'address_dir_intersecting': nan, 'address_road_intersecting': nan, 'address_sfx_intersecting': nan, 'call_type': '10851RR', 'disposition': 'SS-', 'beat': 512, 'priority': 3}\n"
     ]
    },
    {
     "name": "stderr",
     "output_type": "stream",
     "text": [
      " 98%|████████████████████████████████▍| 559709/568947 [05:26<00:05, 1706.63it/s]"
     ]
    },
    {
     "name": "stdout",
     "output_type": "stream",
     "text": [
      "{'incident_num': 'E21120034745', 'date_time': '2021-12-24 07:39:01', 'day_of_week': 6, 'address_number_primary': 2200, 'address_dir_primary': nan, 'address_road_primary': 'WUESTE', 'address_sfx_primary': 'RD', 'address_dir_intersecting': nan, 'address_road_intersecting': nan, 'address_sfx_intersecting': nan, 'call_type': '10851', 'disposition': 'O', 'beat': 9, 'priority': 0}\n"
     ]
    },
    {
     "name": "stderr",
     "output_type": "stream",
     "text": [
      " 99%|████████████████████████████████▋| 562806/568947 [05:28<00:03, 1709.34it/s]"
     ]
    },
    {
     "name": "stdout",
     "output_type": "stream",
     "text": [
      "{'incident_num': 'E21120038161', 'date_time': '2021-12-26 23:39:41', 'day_of_week': 1, 'address_number_primary': 1600, 'address_dir_primary': nan, 'address_road_primary': 'PAC', 'address_sfx_primary': 'HWY', 'address_dir_intersecting': nan, 'address_road_intersecting': nan, 'address_sfx_intersecting': nan, 'call_type': '1151', 'disposition': 'O', 'beat': 700, 'priority': 2}\n"
     ]
    },
    {
     "name": "stderr",
     "output_type": "stream",
     "text": [
      " 99%|████████████████████████████████▋| 563491/568947 [05:29<00:03, 1704.55it/s]"
     ]
    },
    {
     "name": "stdout",
     "output_type": "stream",
     "text": [
      "{'incident_num': 'E21120038900', 'date_time': '2021-12-27 13:05:40', 'day_of_week': 2, 'address_number_primary': 3700, 'address_dir_primary': nan, 'address_road_primary': 'ALABAMA', 'address_sfx_primary': 'ST', 'address_dir_intersecting': nan, 'address_road_intersecting': nan, 'address_sfx_intersecting': nan, 'call_type': '10851RR', 'disposition': 'SS-', 'beat': 813, 'priority': 3}\n"
     ]
    },
    {
     "name": "stderr",
     "output_type": "stream",
     "text": [
      "100%|█████████████████████████████████| 568947/568947 [05:32<00:00, 1711.90it/s]\n"
     ]
    }
   ],
   "source": [
    "for year in Years:\n",
    "    yearly_data = Get_Data(year)\n",
    "    yearly_data_dict = yearly_data.to_dict('records')\n",
    "    for row in tqdm(yearly_data_dict):\n",
    "        Table = 'Service_calls'\n",
    "        Key = 'incident_num'\n",
    "        #Verify if Data is in table\n",
    "        Data_Found = Find_Data(row,cursor,Table,Key)\n",
    "        if Data_Found is None:\n",
    "            #If no data found load\n",
    "            try:\n",
    "                Load_Calls(row,cursor,Table,year)\n",
    "            except:\n",
    "                print(row)\n",
    "                \n",
    "\n",
    "        else:\n",
    "            print('error')\n",
    "            print(row)"
   ]
  },
  {
   "cell_type": "code",
   "execution_count": null,
   "id": "39b896ad",
   "metadata": {},
   "outputs": [],
   "source": []
  }
 ],
 "metadata": {
  "kernelspec": {
   "display_name": "Python 3 (ipykernel)",
   "language": "python",
   "name": "python3"
  },
  "language_info": {
   "codemirror_mode": {
    "name": "ipython",
    "version": 3
   },
   "file_extension": ".py",
   "mimetype": "text/x-python",
   "name": "python",
   "nbconvert_exporter": "python",
   "pygments_lexer": "ipython3",
   "version": "3.9.12"
  }
 },
 "nbformat": 4,
 "nbformat_minor": 5
}
