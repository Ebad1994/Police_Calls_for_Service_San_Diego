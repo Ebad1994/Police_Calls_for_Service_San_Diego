{
 "cells": [
  {
   "cell_type": "code",
   "execution_count": null,
   "id": "a00306a2",
   "metadata": {},
   "outputs": [],
   "source": []
  },
  {
   "cell_type": "markdown",
   "id": "1372a387",
   "metadata": {},
   "source": [
    "### University of San Diego \n",
    "\n",
    "### Master of Science, Applied Data Science \n",
    "\n",
    "#### Contributors\n",
    "\n",
    "- Ebad Akhter\n",
    "- Kevin Baum\n",
    "- Salvador Sanchez"
   ]
  },
  {
   "cell_type": "code",
   "execution_count": null,
   "id": "53e8a7b8",
   "metadata": {},
   "outputs": [],
   "source": []
  }
 ],
 "metadata": {
  "kernelspec": {
   "display_name": "Python 3 (ipykernel)",
   "language": "python",
   "name": "python3"
  },
  "language_info": {
   "codemirror_mode": {
    "name": "ipython",
    "version": 3
   },
   "file_extension": ".py",
   "mimetype": "text/x-python",
   "name": "python",
   "nbconvert_exporter": "python",
   "pygments_lexer": "ipython3",
   "version": "3.9.12"
  }
 },
 "nbformat": 4,
 "nbformat_minor": 5
}
